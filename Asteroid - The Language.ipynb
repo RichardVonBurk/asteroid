{
 "cells": [
  {
   "cell_type": "markdown",
   "metadata": {},
   "source": [
    "Import our Asteroid parser to that we can check our example programs."
   ]
  },
  {
   "cell_type": "code",
   "execution_count": 1,
   "metadata": {
    "collapsed": true
   },
   "outputs": [],
   "source": [
    "from asteroid_interp import interp"
   ]
  },
  {
   "cell_type": "markdown",
   "metadata": {},
   "source": [
    "# Asteroid: The Language"
   ]
  },
  {
   "cell_type": "markdown",
   "metadata": {},
   "source": [
    "Asteroid is a general purpose programming language heavily influenced by [Python](https://www.python.org), [Lua](http://www.lua.org), and [ML](https://www.smlnj.org).  The language is based around the main design principles that:\n",
    "\n",
    "1. Simple things should be simple.\n",
    "2. Everything is a pattern.\n",
    "\n",
    "Even though the first design principle seems like common sense try writing a \"Hello World\" program in [Java](https://java.com/en/).  In Asteroid the canonical \"Hello World\" program is:\n",
    "\n",
    ">NOTE: The programs on this page are written as strings so we can submit them to the Asteroid *interp* function."
   ]
  },
  {
   "cell_type": "code",
   "execution_count": 2,
   "metadata": {},
   "outputs": [
    {
     "name": "stdout",
     "output_type": "stream",
     "text": [
      "Hello World! \n"
     ]
    }
   ],
   "source": [
    "program = \\\n",
    "'''\n",
    "load \"io\".\n",
    "print \"Hello World!\".\n",
    "'''\n",
    "\n",
    "interp(program)"
   ]
  },
  {
   "cell_type": "markdown",
   "metadata": {},
   "source": [
    "The second design principle makes use of the fact that computation is pattern manipulation. Consider unsigned integer addition:\n",
    "```C\n",
    "unsigned short i = 1\n",
    "unsigned short j = 2\n",
    "unsigned short k = i + j\n",
    "```\n",
    "We think of this as manipulating values but at the machine level this looks like pattern manipulation:\n",
    "```C\n",
    "i --> 00000001\n",
    "j --> 00000010\n",
    "k --> 00000011\n",
    "```\n",
    "The interesting thing about patterns is that we can manipulate them via a process called *pattern matching*.  Asteroid makes this explicit: everything (by everything we mean all possible expressions) in Asteroid can be interpreted as a pattern/term and therefore manipulated via pattern matching.  \n",
    "\n",
    "The actual values derived from patterns are usually customary *interpretations* of the patterns.  Consider the bit patterns above.  In order to derive values from these patterns we interpret the patterns as base two digits.  Other interpretations would of course be possible but perhaps not nearly as convenient.  But the fact remains that it is still just an interpretation with the possibility to change it.\n",
    "\n",
    "Another example of this kind pattern-value duality is the interpretation of \"standard\" operators.  In the above example we took it for granted that the `+` operator expresses the integer addition. But this is simply based on the *convention* that certain symbols represent certain operations applied to patterns. Again, patterns and values are attached to each other only by convention with the possibility to change this convention.\n",
    "\n",
    "Compared to other programming languages Asteroid makes this connection between terms and their interpretations explicit by viewing terms as separate entities from the values that they usually represent.  As we will see, by default Asteroid still provides the \"standard\" interpretations of the conventional patterns but the connection is made explicit and can be changed by the user.\n",
    "\n",
    "Viewing terms and patterns as entities in their own right divorced from their default interpretation opens up the door to an interesting programming paradigm we would like to call *pattern-level* programming where the program has the ability to directly manipulate the terms representing expressions and also has control over the interpretations of those terms."
   ]
  },
  {
   "cell_type": "markdown",
   "metadata": {},
   "source": [
    "To get an idea of how Asteroid accomplishes that, here is a small program that changes the standard interpretation of the `+` operator to multiplication."
   ]
  },
  {
   "cell_type": "code",
   "execution_count": 4,
   "metadata": {},
   "outputs": [
    {
     "name": "stdout",
     "output_type": "stream",
     "text": [
      "6 \n",
      "5 \n"
     ]
    }
   ],
   "source": [
    "program = \\\n",
    "'''\n",
    "load \"standard\".  -- load the standard operator interpretations\n",
    "load \"io\".        -- load the io system\n",
    "\n",
    "function funny_add    -- define a function that given two \n",
    "    with a, b do      -- parameters a,b will multiply them\n",
    "        return a * b.\n",
    "    end function\n",
    "\n",
    "attach funny_add to __plus__.   -- attach 'funny_add' to '+'\n",
    "print (3 + 2).                  -- this will print out the value 6\n",
    "detach from __plus__.           -- restore default interpretation\n",
    "print (3 + 2).                  -- this will print out the value 5\n",
    "\n",
    "-- NOTE: '__plus__' is a special symbol representing the '+' operator\n",
    "'''\n",
    "interp(program, symtab_dump=False)"
   ]
  },
  {
   "cell_type": "markdown",
   "metadata": {},
   "source": [
    "## The Basics"
   ]
  },
  {
   "cell_type": "markdown",
   "metadata": {},
   "source": [
    "In order to illustrate the basics of Asteroid we turn to the canonical factorial program."
   ]
  },
  {
   "cell_type": "code",
   "execution_count": null,
   "metadata": {},
   "outputs": [],
   "source": [
    "program = \\\n",
    "'''\n",
    "-- Factorial\n",
    "\n",
    "load \"standard\".\n",
    "load \"io\".\n",
    "\n",
    "function fact \n",
    "    with 0 do\n",
    "        return 1\n",
    "    orwith n do\n",
    "        return n * fact (n-1).\n",
    "    end function\n",
    "\n",
    "print (\"The factorial of 3 is: \" + fact (3)).\n",
    "'''\n",
    "\n",
    "interp(program, exceptions=False, symtab_dump=False)"
   ]
  },
  {
   "cell_type": "markdown",
   "metadata": {},
   "source": [
    "Most of the program should be pretty self-explanatory. It is written in a typical functional programming style where the first `with`/`orwith` block that unifies with the actual parameters is executed as the body of the function."
   ]
  },
  {
   "cell_type": "markdown",
   "metadata": {},
   "source": [
    "Here is another program that recursively walks a list and prints out the elements on the list.  It uses the empty list operator `[ ]` and the head-tail operator `[ | ]`  to pattern-match the input list. The `with` and `orwith` blocks allow different patterns to be applied to the input list.  The blocks are tried in the order they appear in the code.  The first one that matches will execute the commands in its code block.  It is an error if none of the blocks match the input to the function."
   ]
  },
  {
   "cell_type": "code",
   "execution_count": null,
   "metadata": {},
   "outputs": [],
   "source": [
    "program = \\\n",
    "'''\n",
    "-- walk a list recursively and print out the elements\n",
    "\n",
    "load \"io\".\n",
    "\n",
    "function print_list \n",
    "    with [] do\n",
    "        ...     -- empty statements, do nothing!\n",
    "    orwith [h|t] do\n",
    "        print h.\n",
    "        print_list t.\n",
    "    end function\n",
    "\n",
    "print_list [1,2,3].\n",
    "'''\n",
    "\n",
    "interp(program)"
   ]
  },
  {
   "cell_type": "markdown",
   "metadata": {},
   "source": [
    "Let's try something a little bit more esoteric.  The following program implements [Peano addition](https://en.wikipedia.org/wiki/Peano_axioms#Addition) over the natural numbers.  For this we need the following definitions:\n",
    "\n",
    "1. 0 is a natural number.\n",
    "2. For every natural number n, S(n) is a natural number, where S is the successor function.\n",
    "3. For all natural numbers m and n, m = n if and only if S(m) = S(n).\n",
    "4. For every natural number n, S(n) = 0 is false. That is, there is no natural number whose successor is 0."
   ]
  },
  {
   "cell_type": "markdown",
   "metadata": {},
   "source": [
    "The following program implements Peano addition using pattern matching on the input term. We do not load the standard interpretations for our operators because we are not interested in + behaving as an integer addition at this point.  Here we are only interested in + behaving as a constructor for terms."
   ]
  },
  {
   "cell_type": "code",
   "execution_count": null,
   "metadata": {},
   "outputs": [],
   "source": [
    "program = \\\n",
    "'''\n",
    "-- implements Peano addition on terms\n",
    "\n",
    "-- declare the successor function S as a term constructor so that we \n",
    "-- can pattern match on it.\n",
    "constructor S with arity 1.\n",
    "\n",
    "-- the 'reduce' function is our reduction engine which recursively pattern matches and\n",
    "-- rewrites the input term\n",
    "-- NOTE: during pattern matching free variables are bound to subterms of the original term.\n",
    "-- For example, the expression S S 0 + 0 is X + 0 will bind X to S S 0 \n",
    "-- Once a pattern value is bound to a variable it can \n",
    "-- be used in the program.  In our case we use the values in the variables to \n",
    "-- construct new terms, i.e., S reduce (X + Y)\n",
    "function reduce\n",
    "    with X + 0 do                      -- pattern match 'X + 0'\n",
    "        return reduce X.\n",
    "    orwith X + S(Y)  do                -- pattern match to 'X + S Y'\n",
    "        return S(reduce(X + Y)).\n",
    "    orwith term do                     -- default clause\n",
    "        return term.\n",
    "    end function\n",
    "\n",
    "-- construct a term we want to reduce  \n",
    "let n = 'S(S(0)) + (S(S(S(0)))).\n",
    "\n",
    "-- and reduce it!\n",
    "let rn = reduce n.\n",
    "\n",
    "-- attach inc behavior/interpretation to the S constructor\n",
    "load \"standard\".\n",
    "load \"util\".\n",
    "load \"io\".\n",
    "\n",
    "function inc \n",
    "    with n do\n",
    "        return n + 1.\n",
    "    end function\n",
    "    \n",
    "attach inc to S.\n",
    "\n",
    "-- show that with this behavior both the original term and the rewritten term\n",
    "-- evaluate to the same value\n",
    "print ((eval rn) == (eval n)).\n",
    "\n",
    "'''\n",
    "interp(program, tree_dump=False, exceptions=False)"
   ]
  },
  {
   "cell_type": "markdown",
   "metadata": {},
   "source": [
    "Here is another way of doing Peano addition using the built-in 'attach' facility."
   ]
  },
  {
   "cell_type": "code",
   "execution_count": null,
   "metadata": {},
   "outputs": [],
   "source": [
    "program = \\\n",
    "'''\n",
    "-- Peano addition using 'attach'\n",
    "\n",
    "load \"standard\".\n",
    "load \"io\".\n",
    "\n",
    "-- declare a constructor for our successor function\n",
    "constructor S with arity 1.\n",
    "\n",
    "-- declare a function that implements the behavior for the successor function\n",
    "function inc \n",
    "    with n do\n",
    "        return n + 1.\n",
    "    end function\n",
    "    \n",
    "-- attach the behavior/interpretation to the constructor\n",
    "attach inc to S.\n",
    "\n",
    "-- print value using the attached function\n",
    "print (S (S (S (0))) + S (S (0))).  \n",
    "'''\n",
    "interp(program)"
   ]
  },
  {
   "cell_type": "markdown",
   "metadata": {},
   "source": [
    "Finally, here is the \"standard\" way of doing this.  Note, however, that the quote operator suspends standard interpretations and the symbols in the quoted expressions are treated as pure constructors."
   ]
  },
  {
   "cell_type": "code",
   "execution_count": null,
   "metadata": {},
   "outputs": [],
   "source": [
    "program = \\\n",
    "'''\n",
    "load \"standard\".\n",
    "load \"util\".\n",
    "load \"io\".\n",
    "\n",
    "function S \n",
    "    with n do\n",
    "        return n + 1.\n",
    "    end function\n",
    "\n",
    "-- show that the value of the functional term is the same value as the value of the\n",
    "-- evaluated constructor term.\n",
    "print (S(S(S(0))) + S(S(0)) == eval('S(S(S(0))) + S(S(0)))). \n",
    "\n",
    "'''\n",
    "interp(program)"
   ]
  },
  {
   "cell_type": "markdown",
   "metadata": {},
   "source": [
    "## OO Programming in Asteroid"
   ]
  },
  {
   "cell_type": "markdown",
   "metadata": {},
   "source": [
    "Asteroid's OO model is heavily influenced by Lua's OO model.  At the core the model is a prototype based model.  The interesting thing of course is that Asteroid supports the full pattern/value duality even in the OO model.  That it, Asteroid allows you to pattern match on instatiated objects.  \n",
    "\n",
    "> NOTE: The self object reference is not fully implemented yet and currently has to be\n",
    "provided manually as the first parameter to the function."
   ]
  },
  {
   "cell_type": "code",
   "execution_count": null,
   "metadata": {},
   "outputs": [],
   "source": [
    "program = \\\n",
    "'''\n",
    "-- demonstrate our OO model in the context of Asteroid's support for pattern/value duality.\n",
    "load \"io\".\n",
    "\n",
    "-- declare a named constructor for a new object type\n",
    "-- the object has two member slots\n",
    "constructor Hello with arity 2.\n",
    "\n",
    "-- instantiate a new object using the constructor. members are name-value pairs so that\n",
    "-- we can use the dictionary-style dot notation to access members.\n",
    "let hello_obj = Hello\n",
    "        (\n",
    "            (\"greeting\", \"Hello World!\"),\n",
    "            (\"print_greeting\", lambda with self do print self@{\"greeting\"})\n",
    "        ).\n",
    " \n",
    "-- NOTE: \n",
    "-- the following statements are all equivalent and access the function stored\n",
    "-- in the second slot.  all these statements print out \"Hello World!\"\n",
    "\n",
    "hello_obj@{\"print_greeting\"} ().           -- dictionary style reference\n",
    "\n",
    "hello_obj@[1]@[1] ().                      -- list style reference\n",
    "\n",
    "with Hello (_, (_,f)) = hello_obj do       -- object pattern matching\n",
    "    f hello_obj.\n",
    "end with\n",
    "\n",
    "-- the following is interesting because it shows that we can pattern match on functions\n",
    "-- we treat functions as purely syntactic objects -- that is, pattern/value duality is \n",
    "-- completely preserved.\n",
    "let Hello \n",
    "    (\n",
    "        (_, \"Hello World!\"), \n",
    "        (_, lambda with _ do print _)\n",
    "\n",
    "        -- (_, _)\n",
    "\n",
    "    )\n",
    "  = hello_obj.\n",
    "'''\n",
    "\n",
    "interp(program, exceptions=True, tree_dump=False)"
   ]
  },
  {
   "cell_type": "markdown",
   "metadata": {},
   "source": [
    "Note that in the last line of the example above we diverge drastically from the pattern matching available in the standard functional model.  Consider the following ML program:\n",
    "```ml\n",
    "val obj = (\"hello world!\\n\", (fn x => print x));\n",
    "val (\"hello world!\\n\",f) = obj;\n",
    "f (#1 obj);   \n",
    "val (\"hello world!\\n\",(fn x => print x)) = obj;\n",
    "```\n",
    "The last line in this code example will fail.  That means ML is inconsistent in the way it treats objects: some objects can be inspected using pattern matching and some cannot (functions).This is due to the fact that function constructors in ML are treated as closures, a  mixture of syntax and semantics that cannot be viewed as a pattern. In our approach functions are syntactic objects that can be investigated using pattern matching making them consistent with other constructors/constants and preserve our pattern/value duality."
   ]
  },
  {
   "cell_type": "markdown",
   "metadata": {},
   "source": [
    "Here is another OO example."
   ]
  },
  {
   "cell_type": "code",
   "execution_count": null,
   "metadata": {},
   "outputs": [],
   "source": [
    "program = \\\n",
    "'''\n",
    "-- another OO example based on the dog example from the Python documentation:\n",
    "--  https://docs.python.org/3/tutorial/classes.html\n",
    "\n",
    "load \"standard\".\n",
    "load \"io\".\n",
    "load \"util\".\n",
    "\n",
    "-- Our Dog type constructor\n",
    "constructor Dog with arity 3.\n",
    "\n",
    "-- the prototype object\n",
    "let dog_proto = Dog (\n",
    "            (\"name\", \"\"),\n",
    "            (\"trick\", \"\"),\n",
    "            (\"make_string\", \n",
    "                lambda with self do return self@{\"name\"} + \" does \" + self@{\"trick\"})\n",
    "        ).\n",
    "\n",
    "-- Fido the dog\n",
    "let fido = copy dog_proto.\n",
    "let fido@{\"name\"} = \"Fido\".\n",
    "let fido@{\"trick\"} = \"play dead\".\n",
    "print (fido@{\"make_string\"} ()).\n",
    "\n",
    "-- Buddy the dog\n",
    "let buddy = copy dog_proto.\n",
    "let buddy@{\"name\"} = \"Buddy\".\n",
    "let buddy@{\"trick\"} = \"roll over\".\n",
    "print (buddy@{\"make_string\"} ()).\n",
    "'''\n",
    "interp(program)"
   ]
  },
  {
   "cell_type": "markdown",
   "metadata": {},
   "source": [
    "## Sorting"
   ]
  },
  {
   "cell_type": "code",
   "execution_count": null,
   "metadata": {},
   "outputs": [],
   "source": [
    "program = \\\n",
    "'''\n",
    "-- Quicksort\n",
    "\n",
    "load \"standard\".\n",
    "load \"io\".\n",
    "\n",
    "function qsort\n",
    "    with [] do\n",
    "        return [].\n",
    "    orwith [a] do\n",
    "        return [a].\n",
    "    orwith [pivot|rest] do\n",
    "        with less=[], more=[] do\n",
    "            for e in rest do  \n",
    "                if e < pivot do\n",
    "                    let less = less + [e].\n",
    "                else\n",
    "                    let more = more + [e].\n",
    "                end if\n",
    "            end for\n",
    "                        \n",
    "            return qsort less + [pivot] + qsort more.\n",
    "        end with\n",
    "    end function\n",
    "    \n",
    "print (qsort [3,2,1,0])\n",
    "'''\n",
    "\n",
    "interp(program, symtab_dump=False)"
   ]
  },
  {
   "cell_type": "code",
   "execution_count": null,
   "metadata": {},
   "outputs": [],
   "source": [
    "program = \\\n",
    "'''\n",
    "load \"standard\".\n",
    "load \"util\".\n",
    "load \"io\".\n",
    "\n",
    "function bubblesort \n",
    "    with list do\n",
    "        with change do\n",
    "            repeat\n",
    "                let change = false.\n",
    "                for i in 0 to (length list - 2) do\n",
    "                    if list@[i] > list@[i+1] do\n",
    "                        -- swap the values\n",
    "                        let list@[i], list@[i+1] = list@[i+1], list@[i].\n",
    "                        let change = true.\n",
    "                    end if\n",
    "                end for\n",
    "            until not change.\n",
    "        end with\n",
    "        return list. -- return the sorted list\n",
    "    end function\n",
    "\n",
    "print (bubblesort [3,2,1,0])\n",
    "\n",
    "\n",
    "'''\n",
    "\n",
    "interp(program, exceptions=False)"
   ]
  },
  {
   "cell_type": "markdown",
   "metadata": {},
   "source": [
    "## Other Random Code Examples"
   ]
  },
  {
   "cell_type": "code",
   "execution_count": null,
   "metadata": {},
   "outputs": [],
   "source": [
    "program =\\\n",
    "'''\n",
    "-- iterating over compound lists\n",
    "load \"standard\".\n",
    "load \"io\".\n",
    "\n",
    "let people = [(\"Joe\",32,\"Cook\"),(\"Peter\",24,\"Pilot\"),(\"Joanne\",45,\"Doctor\")].\n",
    "\n",
    "for person in people do\n",
    "    let name, age, occupation = person. \n",
    "    print(name + \"is\" + age + \"years old and is a\" + occupation). \n",
    "end for\n",
    "'''\n",
    "\n",
    "interp(program)"
   ]
  },
  {
   "cell_type": "code",
   "execution_count": null,
   "metadata": {},
   "outputs": [],
   "source": [
    "program = \\\n",
    "'''\n",
    "-- walking a tree defined via tuples of the form (<name>, children*)\n",
    "load \"standard\".\n",
    "load \"util\".\n",
    "load \"io\".\n",
    "\n",
    "let symtab = [\n",
    "    (\"x\", 3),\n",
    "    (\"y\", 2),\n",
    "    (\"z\", 1)\n",
    "].\n",
    "\n",
    "function tree_walk\n",
    "    with (\"+\", l, r) do\n",
    "        return tree_walk l + tree_walk r.\n",
    "    orwith (\"-\", l, r) do\n",
    "        return tree_walk l - tree_walk r.\n",
    "    orwith (\"id\", name) do\n",
    "        return symtab@{name} otherwise 0. -- choice operator if dictionary returns 'none'\n",
    "    orwith (\"num\", i) do\n",
    "        return i.\n",
    "    orwith node do\n",
    "        throw Error(\"unknown node type: \" + node).\n",
    "    end function\n",
    "    \n",
    "let tree = (\"+\", (\"num\", 2), (\"id\", \"x\")).\n",
    "\n",
    "print(tree_walk tree).\n",
    "'''\n",
    "\n",
    "interp(program, exceptions=True)"
   ]
  },
  {
   "cell_type": "code",
   "execution_count": null,
   "metadata": {},
   "outputs": [],
   "source": [
    "program = \\\n",
    "'''\n",
    "-- implements Peano addition using a lookup table for the rewrite rules\n",
    "\n",
    "load \"standard\".\n",
    "load \"util\".\n",
    "load \"io\".\n",
    "\n",
    "-- want to use + as a constructor\n",
    "let add_op = __plus__.  -- save the current interpretation\n",
    "detach from __plus__. \n",
    "\n",
    "-- here we declare the successor function as a term constructor so that we \n",
    "-- can pattern match on it.\n",
    "constructor S with arity 1.\n",
    "\n",
    "-- each entry in the rule table represents a rewrite rule,\n",
    "-- first component of the entry is the lhs of the rule\n",
    "-- second component is the rhs.  The lhs and rhs of\n",
    "-- the rules are quoted because we want to consider\n",
    "-- them as pure terms.\n",
    "let rule_table = \n",
    "    [('X + 0, 'reduce X),\n",
    "     ('X + S(Y), 'S(reduce(X + Y)))].\n",
    "\n",
    "-- the reduce function is our reduction engine that tries to apply\n",
    "-- the rules from the rule table to the current input term.\n",
    "function reduce \n",
    "    with term do\n",
    "        for i in 0 to (length rule_table) - 1 do\n",
    "            -- limit visibility of free variables of the rewrite rules\n",
    "            -- to the with block scope\n",
    "            with lhs, rhs = rule_table@[i] do \n",
    "                if term is *lhs do\n",
    "                    return eval rhs.\n",
    "                end if\n",
    "            end with\n",
    "        end for\n",
    "        return term.\n",
    "    end function\n",
    "\n",
    "let n = 'S(S(0)) + S(S(S(0))). -- peano number 5\n",
    "let rn = reduce n.\n",
    "\n",
    "-- check that our reduced rn represents the value 5\n",
    "function inc \n",
    "    with n do\n",
    "        return n + 1.\n",
    "    end function\n",
    "    \n",
    "attach inc to S.\n",
    "attach add_op to __plus__.\n",
    "\n",
    "print ((eval rn) == 5).\n",
    "'''\n",
    "\n",
    "interp(program,exceptions=True)"
   ]
  },
  {
   "cell_type": "code",
   "execution_count": null,
   "metadata": {
    "collapsed": true
   },
   "outputs": [],
   "source": []
  }
 ],
 "metadata": {
  "kernelspec": {
   "display_name": "Python 3",
   "language": "python",
   "name": "python3"
  },
  "language_info": {
   "codemirror_mode": {
    "name": "ipython",
    "version": 3
   },
   "file_extension": ".py",
   "mimetype": "text/x-python",
   "name": "python",
   "nbconvert_exporter": "python",
   "pygments_lexer": "ipython3",
   "version": "3.6.1"
  }
 },
 "nbformat": 4,
 "nbformat_minor": 2
}
