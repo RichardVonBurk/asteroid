{
 "cells": [
  {
   "cell_type": "markdown",
   "metadata": {},
   "source": [
    "Import our Asteroid parser to that we can check our example programs."
   ]
  },
  {
   "cell_type": "code",
   "execution_count": 1,
   "metadata": {
    "collapsed": true
   },
   "outputs": [],
   "source": [
    "from asteroid_interp import interp"
   ]
  },
  {
   "cell_type": "markdown",
   "metadata": {},
   "source": [
    "# Asteroid: The Language"
   ]
  },
  {
   "cell_type": "markdown",
   "metadata": {},
   "source": [
    "Asteroid is a general purpose programming language heavily influenced by [Python](https://www.python.org), [Lua](http://www.lua.org), and [ML](https://www.smlnj.org).  The language is based around the main design principles that:\n",
    "\n",
    "1. Simple things should be simple.\n",
    "2. Everything is a pattern.\n",
    "\n",
    "Even though the first design principle seems like common sense try writing a \"Hello World\" program in [Java](https://java.com/en/).  In Asteroid the canonical \"Hello World\" program is (programs are written as strings so we can submit them to the Asteroid *interp* function):"
   ]
  },
  {
   "cell_type": "code",
   "execution_count": null,
   "metadata": {},
   "outputs": [],
   "source": [
    "program = \\\n",
    "'''\n",
    "load \"io.ast\".\n",
    "print \"Hello World!\".\n",
    "'''\n",
    "\n",
    "interp(program)"
   ]
  },
  {
   "cell_type": "markdown",
   "metadata": {},
   "source": [
    "The second design principle makes use of the fact that computation is pattern manipulation. Consider unsigned integer addition:\n",
    "```C\n",
    "unsigned short i = 1\n",
    "unsigned short j = 2\n",
    "unsigned short k = i + j\n",
    "```\n",
    "We think of this as manipulating values but at the machine level this looks like pattern manipulation:\n",
    "```C\n",
    "i --> 00000001\n",
    "j --> 00000010\n",
    "k --> 00000011\n",
    "```\n",
    "The interesting thing about patterns is that we can manipulate them via a process called *pattern matching*.  Asteroid makes this explicit: everything (by everything we mean all expressions) in Asteroid can be interpreted as a pattern/term and therefore manipulated via pattern matching.  \n",
    "\n",
    "The values derived from patterns are usually customary *interpretations* of the patterns.  Consider the bit patterns above.  In order to derive values from these patterns we interpret the patterns as base two digits.  Other interpretations would of course be possible but perhaps not nearly as convenient.  But the fact remains that it is still just an interpretation with the possibility to change it.\n",
    "\n",
    "Another example of this kind pattern-value duality is the interpretation of \"standard\" operators.  In the above example we took it for granted that the `+` operator expresses the integer addition. But this is simply based on the *convention* that certain symbols represent certain operations applied to patterns. Again, patterns and values are attached to each other only by convention with the possibility to change this convention.\n",
    "\n",
    "Compared to other programming languages Asteroid makes this connection between terms and their interpretations explicit by viewing terms as separate entities from the values that they usually represent.  As we will see, by default Asteroid still provides the \"standard\" interprestations of the conventional patterns as certain values but the connection is made explicit and can be changed by the user.\n",
    "\n",
    "Viewing terms and patterns as entities in their own right divorced from their default interpretation opens up the door to an interesting programming paradigm we would like to call *pattern-level* programming where the program has the ability to directly manipulate the terms representing expressions and also has control over the interpretations of those terms."
   ]
  },
  {
   "cell_type": "markdown",
   "metadata": {},
   "source": [
    "To get an idea of how Asteroid accomplishes that, here is a small program that changes the standard interpretation of the `+` operator to multiplication."
   ]
  },
  {
   "cell_type": "code",
   "execution_count": 8,
   "metadata": {},
   "outputs": [
    {
     "name": "stdout",
     "output_type": "stream",
     "text": [
      "('integer', 6)\n",
      "('integer', 6)\n"
     ]
    }
   ],
   "source": [
    "program = \\\n",
    "'''\n",
    "load \"standard.ast\".\n",
    "load \"io.ast\".\n",
    "\n",
    "function funny_add \n",
    "    with a, b do\n",
    "        return a * b.\n",
    "    end function\n",
    "\n",
    "attach funny_add to __plus__.   -- attach 'funny_add' to '+'\n",
    "print (3 + 2).                  -- this will print out the value 6\n",
    "detach from __plus__.           -- restore default interpretation\n",
    "\n",
    "attach (lambda with a,b do return a*b) to __plus__.   \n",
    "print (3 + 2).                  -- this will print out the value 6\n",
    "detach from __plus__.\n",
    "\n",
    "-- NOTE: '__plus__' is a special symbol representing the '+' operator\n",
    "'''\n",
    "interp(program)"
   ]
  },
  {
   "cell_type": "markdown",
   "metadata": {},
   "source": [
    "## The Basics"
   ]
  },
  {
   "cell_type": "markdown",
   "metadata": {},
   "source": [
    "In order to illustrate the basics of Asteroid we turn to the canonical factorial program."
   ]
  },
  {
   "cell_type": "code",
   "execution_count": null,
   "metadata": {},
   "outputs": [],
   "source": [
    "program = \\\n",
    "'''\n",
    "-- Factorial\n",
    "\n",
    "load \"standard.ast\".\n",
    "load \"io.ast\".\n",
    "\n",
    "function fact \n",
    "    with 0 do\n",
    "        return 1\n",
    "    orwith n do\n",
    "        return n * fact (n-1).\n",
    "    end function\n",
    "\n",
    "print (\"The factorial of 3 is: \" , fact (3)).\n",
    "'''\n",
    "\n",
    "interp(program, exceptions=False, symtab_dump=True)"
   ]
  },
  {
   "cell_type": "code",
   "execution_count": null,
   "metadata": {},
   "outputs": [],
   "source": [
    "program = \\\n",
    "'''\n",
    "-- Factorial\n",
    "\n",
    "load \"standard.ast\".\n",
    "load \"io.ast\".\n",
    "\n",
    "function fact \n",
    "    with n do\n",
    "        if n < 0 do\n",
    "            throw Error \"n has to be non-negative!\".\n",
    "        elif n is 0 do -- this is pattern-level programmng, 'n == 0' is value-level programming.\n",
    "            return 1.\n",
    "        else\n",
    "            return n * fact (n-1).\n",
    "        end if\n",
    "    end function\n",
    "\n",
    "print (\"The factorial of 3 is: \" , fact (3)).\n",
    "'''\n",
    "\n",
    "interp(program, exceptions=False, symtab_dump=True)"
   ]
  },
  {
   "cell_type": "markdown",
   "metadata": {},
   "source": [
    "Most of the program should be pretty self-explanatory. We have a function definition whose body consists mainly of a cascade of conditional statements.  The computation itself is based on the recursive definition of the factorial operator.  Two things are worth pointing out:\n",
    "\n",
    "1. The `error` command.  This command throws its argument as an exception term.  In this case the error term is the string appearing in the error command.\n",
    "\n",
    "2. The condition of the `elif` command.  Here we use the `is` operator to pattern-match the variable `n` against the pattern `0`.  This is the pattern-level approach to programming this condition.  The value-level approach would use the `==` operator comparing the *value* of `n` to the value of the constant `0`."
   ]
  },
  {
   "cell_type": "markdown",
   "metadata": {},
   "source": [
    "Here is a program that recursively walks a list and prints out the elements on the list.  It uses the empty list operator `[ ]` and the head-tail operator `[ | ]`  to pattern-match the input list. The `with` and `orwith` blocks allow different patterns to be applied to the input list.  The blocks are tried in the order they appear in the code.  The first one that matches will execute the commands in its code block.  It is an error if none of the blocks match the input to the function."
   ]
  },
  {
   "cell_type": "code",
   "execution_count": null,
   "metadata": {},
   "outputs": [],
   "source": [
    "program = \\\n",
    "'''\n",
    "-- walk a list recursively and print out the elements\n",
    "\n",
    "load \"io.ast\".\n",
    "\n",
    "function print_list \n",
    "    with [] do\n",
    "        ...     -- empty statements, do nothing!\n",
    "    orwith [h|t] do\n",
    "        print h.\n",
    "        print_list t.\n",
    "    end function\n",
    "\n",
    "print_list [1,2,3].\n",
    "'''\n",
    "\n",
    "interp(program)"
   ]
  },
  {
   "cell_type": "markdown",
   "metadata": {},
   "source": [
    "Let's try something a little bit more esoteric.  The following program implements [Peano addition](https://en.wikipedia.org/wiki/Peano_axioms#Addition) over the natural numbers.  For this we need the following definitions:\n",
    "\n",
    "1. 0 is a natural number.\n",
    "2. For every natural number n, S(n) is a natural number, where S is the successor function.\n",
    "3. For all natural numbers m and n, m = n if and only if S(m) = S(n).\n",
    "4. For every natural number n, S(n) = 0 is false. That is, there is no natural number whose successor is 0."
   ]
  },
  {
   "cell_type": "markdown",
   "metadata": {},
   "source": [
    "The following program implements Peano addition using pattern matching on the input term:"
   ]
  },
  {
   "cell_type": "code",
   "execution_count": null,
   "metadata": {},
   "outputs": [],
   "source": [
    "program = \\\n",
    "'''\n",
    "-- implements Peano addition on terms\n",
    "\n",
    "load \"io.ast\".\n",
    "\n",
    "-- declare the successor function S as a term constructor so that we \n",
    "-- can pattern match on it.\n",
    "\n",
    "constructor S with arity 1.\n",
    "\n",
    "-- the 'reduce' function is our reduction engine which recursively pattern matches and\n",
    "-- rewrites the input term\n",
    "-- NOTE: during pattern matching free variables are bound to subterms of the original term.\n",
    "-- For example, the expression S S 0 + 0 is X + 0 will bind X to S S 0 where X was \n",
    "-- declared as a variable. Once a pattern value is bound to a variable it can \n",
    "-- be used in the program.  In our case we use the values in the variables to \n",
    "-- construct new terms, i.e., S reduce (X + Y)\n",
    "\n",
    "function reduce\n",
    "    with X + 0 do                      -- pattern match 'X + 0'\n",
    "        return reduce X.\n",
    "    orwith X + S Y  do                 -- pattern match to 'X + S Y'\n",
    "        return S(reduce(X + Y)).\n",
    "    orwith term do                     -- default clause\n",
    "        return term.\n",
    "    end function\n",
    "\n",
    "-- construct a term we want to reduce, the quote allows us to construct terms without\n",
    "-- having Asteroid immediately try to evaluate them.  \n",
    "\n",
    "-- let n = 'S S 0 + S S S 0.\n",
    "let n = 0 + S 0.\n",
    "\n",
    "-- print the resulting term from our reduction\n",
    "\n",
    "print (reduce n).\n",
    "'''\n",
    "\n",
    "interp(program, tree_dump=False, exceptions=True)"
   ]
  },
  {
   "cell_type": "markdown",
   "metadata": {},
   "source": [
    "Here is another way of doing Peano addition using the built-in 'attach' facility."
   ]
  },
  {
   "cell_type": "code",
   "execution_count": 9,
   "metadata": {},
   "outputs": [
    {
     "name": "stdout",
     "output_type": "stream",
     "text": [
      "('integer', 5)\n"
     ]
    }
   ],
   "source": [
    "program = \\\n",
    "'''\n",
    "-- Peano addition using 'attach'\n",
    "\n",
    "load \"standard.ast\".\n",
    "load \"io.ast\".\n",
    "\n",
    "-- declare a constructor for our successor function\n",
    "constructor S with arity 1.\n",
    "\n",
    "-- declare a function that implements the behavior for the successor function\n",
    "function next \n",
    "    with n do\n",
    "        return n + 1.\n",
    "    end function\n",
    "    \n",
    "-- attach the behavior/interpretation to the constructor\n",
    "attach next to S.\n",
    "\n",
    "-- print value using the attached function\n",
    "print (S (S (S (0))) + S (S (0))).  \n",
    "'''\n",
    "interp(program)"
   ]
  },
  {
   "cell_type": "markdown",
   "metadata": {},
   "source": [
    "Here is another way of doing this using function names as constructors."
   ]
  },
  {
   "cell_type": "code",
   "execution_count": 12,
   "metadata": {},
   "outputs": [
    {
     "name": "stdout",
     "output_type": "stream",
     "text": [
      "('apply',\n",
      " ('id', '__plus__'),\n",
      " ('apply',\n",
      "  ('list',\n",
      "   [('apply',\n",
      "     ('id', 'S'),\n",
      "     ('apply',\n",
      "      ('id', 'S'),\n",
      "      ('apply', ('id', 'S'), ('apply', ('integer', 0), ('nil',))))),\n",
      "    ('apply',\n",
      "     ('id', 'S'),\n",
      "     ('apply', ('id', 'S'), ('apply', ('integer', 0), ('nil',))))]),\n",
      "  ('nil',)))\n",
      "Error: type function and type integer are incompatible\n"
     ]
    },
    {
     "ename": "SystemExit",
     "evalue": "1",
     "output_type": "error",
     "traceback": [
      "An exception has occurred, use %tb to see the full traceback.\n",
      "\u001b[0;31mSystemExit\u001b[0m\u001b[0;31m:\u001b[0m 1\n"
     ]
    },
    {
     "name": "stderr",
     "output_type": "stream",
     "text": [
      "/Users/lutz/anaconda/lib/python3.6/site-packages/IPython/core/interactiveshell.py:2889: UserWarning: To exit: use 'exit', 'quit', or Ctrl-D.\n",
      "  warn(\"To exit: use 'exit', 'quit', or Ctrl-D.\", stacklevel=1)\n"
     ]
    }
   ],
   "source": [
    "peano_constr = \\\n",
    "'''\n",
    "load \"standard.ast\".\n",
    "load \"io.ast\".\n",
    "\n",
    "function S \n",
    "    with n do\n",
    "        return n + 1.\n",
    "    end function\n",
    "\n",
    "print ('S S S 0 + S S 0). -- print term structure using the function name as constructor\n",
    "print (S S S 0 + S S 0). -- print value using the function\n",
    "\n",
    "'''\n",
    "interp(peano_constr)"
   ]
  },
  {
   "cell_type": "markdown",
   "metadata": {},
   "source": [
    "## OO Programming in Asteroid"
   ]
  },
  {
   "cell_type": "markdown",
   "metadata": {},
   "source": [
    "Asteroid's OO model is heavily influenced by Lua's OO model.  At the core the model is a prototype based model.  The interesting thing of course is that Asteroid supports the full pattern/value duality even in the OO model.  That it, Asteroid allows you to pattern match on instatiated objects.  "
   ]
  },
  {
   "cell_type": "code",
   "execution_count": null,
   "metadata": {
    "collapsed": true
   },
   "outputs": [],
   "source": [
    "hello_OO = \\\n",
    "'''\n",
    "-- demonstrate our OO model in the context of Asteroid's support for pattern/value duality.\n",
    "\n",
    "-- declare a named constructor for a new object type\n",
    "-- the object has two member slots\n",
    "constructor Hello with arity 2.\n",
    "\n",
    "-- instantiate a new object using the constructor. members are name-value pairs so that\n",
    "-- we can use the dictionary-style dot notation to access members.\n",
    "let hello_obj = Hello\n",
    "        (\n",
    "            (\"greeting\", \"Hello World!\"),\n",
    "            (\"print_greeting\", lambda with self do println self{greeting})\n",
    "        ).\n",
    " \n",
    "-- use prototyping to instantiate another object of the same kind. \n",
    "let another_obj = copy hello_obj.\n",
    "\n",
    "-- NOTE: in our model of OO we have to pass the object identity to member functions as a \n",
    "-- separate parameter. the convention is that it is always the first parameter.\n",
    "\n",
    "-- the following statements are all equivalent and access the function stored\n",
    "-- in the second slot.  all these statements print out \"Hello World!\"\n",
    "-- in the dot notation the interpreter will automatically generate the object identity pointer\n",
    "-- in all other cases the user will have to provide it explicitly\n",
    "\n",
    "hello_obj{print_greeting} none.\n",
    "\n",
    "hello_obj [1] [1] hello_obj.\n",
    "\n",
    "with Hello (_, (_,f)) = hello_obj do\n",
    "    f hello_obj.\n",
    "end with\n",
    "\n",
    "-- the following is interesting because it shows that we can pattern match on functions\n",
    "-- we treat functions are purely syntactic objects -- that is, pattern/value duality is \n",
    "-- completely preserved.\n",
    "let Hello \n",
    "    (\n",
    "        (_, \"Hello World!\"), \n",
    "        (_, lambda with self do println self{greeting})\n",
    "    )\n",
    "  = hello_obj.\n",
    "'''\n",
    "\n",
    "interp(hello_OO)"
   ]
  },
  {
   "cell_type": "markdown",
   "metadata": {},
   "source": [
    "Note that in the last line of the example above we diverge drastically from the pattern matching available in the standard functional model.  Consider the following ML program:\n",
    "```ml\n",
    "val obj = (\"hello world!\\n\", (fn x => print x));\n",
    "val (\"hello world!\\n\",f) = obj;\n",
    "f (#1 obj);   \n",
    "val (\"hello world!\\n\",(fn x => print x)) = obj;\n",
    "```\n",
    "The last line in this code example will fail.  \n",
    "That means ML is inconsistent in the way it treats objects:\n",
    "some objects can be inspected using pattern matching and some cannot (functions).\n",
    "This is due to the fact that function constructors in ML are treated as closures, a  \n",
    "mixture of syntax and semantics that cannot be viewed as a pattern.\n",
    "In our approach functions are syntactic objects that can be investigated\n",
    "using pattern matching making them consistent with other constructors/constants and\n",
    "preserve our pattern/value duality."
   ]
  },
  {
   "cell_type": "code",
   "execution_count": null,
   "metadata": {
    "collapsed": true
   },
   "outputs": [],
   "source": [
    "doggies = \\\n",
    "'''\n",
    "-- another OO example\n",
    "\n",
    "-- Our Dog type constructor\n",
    "constructor Dog with arity 3.\n",
    "\n",
    "-- the prototype object\n",
    "let dog_proto = Dog (\n",
    "            (\"name\", \"\"),\n",
    "            (\"trick\", \"\"),\n",
    "            (\"make_string\", lambda with self do return self{name} + \" does \" + self{trick})\n",
    "        ).\n",
    "\n",
    "-- Fido the dog\n",
    "let fido = copy dog_proto.\n",
    "let fido@{\"name\"} = \"Fido\".\n",
    "let fido@{\"trick\"} = \"play dead\".\n",
    "print (fido@{\"make_string\"}) fido.\n",
    "\n",
    "-- Buddy the dog\n",
    "let buddy = copy dog_proto.\n",
    "let buddy@{\"name\"} = \"Buddy\".\n",
    "let buddy@{\"trick\"} = \"roll over\".\n",
    "print (buddy@{\"make_string\"}) buddy.\n",
    "'''\n",
    "interp(doggies)"
   ]
  },
  {
   "cell_type": "markdown",
   "metadata": {},
   "source": [
    "## Sorting"
   ]
  },
  {
   "cell_type": "code",
   "execution_count": 7,
   "metadata": {},
   "outputs": [
    {
     "name": "stdout",
     "output_type": "stream",
     "text": [
      "('list', [('integer', 0), ('integer', 1), ('integer', 2), ('integer', 3)])\n"
     ]
    }
   ],
   "source": [
    "program = \\\n",
    "'''\n",
    "-- Quicksort\n",
    "\n",
    "load \"standard.ast\".\n",
    "load \"io.ast\".\n",
    "\n",
    "function qsort\n",
    "    with [] do\n",
    "        return [].\n",
    "    orwith [a] do\n",
    "        return [a].\n",
    "    orwith [pivot|rest] do\n",
    "        with less=[], more=[] do\n",
    "            for e in rest do  \n",
    "                if e < pivot do\n",
    "                    let less = less + [e].\n",
    "                else\n",
    "                    let more = more + [e].\n",
    "                end if\n",
    "            end for\n",
    "                        \n",
    "            return qsort less + [pivot] + qsort more.\n",
    "        end with\n",
    "    end function\n",
    "    \n",
    "print (qsort [3,2,1,0])\n",
    "'''\n",
    "\n",
    "interp(program, symtab_dump=False)"
   ]
  },
  {
   "cell_type": "code",
   "execution_count": 6,
   "metadata": {},
   "outputs": [
    {
     "name": "stdout",
     "output_type": "stream",
     "text": [
      "('list', [('integer', 0), ('integer', 1), ('integer', 2), ('integer', 3)])\n"
     ]
    }
   ],
   "source": [
    "bubblesort = \\\n",
    "'''\n",
    "load \"standard.ast\".\n",
    "load \"io.ast\".\n",
    "\n",
    "function bubblesort \n",
    "    with list do\n",
    "        with change do\n",
    "            repeat\n",
    "                let change = false.\n",
    "                for i in 0 to (length list - 2) do\n",
    "                    if list@[i] > list@[i+1] do\n",
    "                        -- swap the values\n",
    "                        let list@[i], list@[i+1] = list@[i+1], list@[i].\n",
    "                        let change = true.\n",
    "                    end if\n",
    "                end for\n",
    "            until not change.\n",
    "        end with\n",
    "        return list. -- return the sorted list\n",
    "    end function\n",
    "\n",
    "print (bubblesort [3,2,1,0])\n",
    "\n",
    "\n",
    "'''\n",
    "\n",
    "interp(bubblesort, exceptions=False)"
   ]
  },
  {
   "cell_type": "markdown",
   "metadata": {},
   "source": [
    "## Other Random Code Examples"
   ]
  },
  {
   "cell_type": "code",
   "execution_count": null,
   "metadata": {
    "collapsed": true
   },
   "outputs": [],
   "source": [
    "load = \\\n",
    "'''\n",
    "-- loading modules\n",
    "\n",
    "load \"hello.ast\".\n",
    "\n",
    "println \"Jello World!\".\n",
    "'''\n",
    "interp(load)"
   ]
  },
  {
   "cell_type": "code",
   "execution_count": null,
   "metadata": {
    "collapsed": true
   },
   "outputs": [],
   "source": [
    "people =\\\n",
    "'''\n",
    "-- iterating over compound lists\n",
    "\n",
    "let people = [(\"Joe\",32,\"Cook\"),(\"Peter\",24,\"Pilot\"),(\"Joanne\",45,\"Doctor\")].\n",
    "\n",
    "for person in people do\n",
    "    let name, age, occupation = person. \n",
    "    println name + \" is \" + age + \" years old and is a \" + occupation. \n",
    "end for\n",
    "'''\n",
    "\n",
    "interp(people)"
   ]
  },
  {
   "cell_type": "code",
   "execution_count": null,
   "metadata": {
    "collapsed": true
   },
   "outputs": [],
   "source": [
    "hello_name =\\\n",
    "'''\n",
    "-- simple IO\n",
    "print \"Please enter your name: \".\n",
    "read name.\n",
    "println \"Hello \" + name + \"!\".\n",
    "'''\n",
    "\n",
    "interp(hello_name)"
   ]
  },
  {
   "cell_type": "code",
   "execution_count": null,
   "metadata": {
    "collapsed": true
   },
   "outputs": [],
   "source": [
    "tree_walk = \\\n",
    "'''\n",
    "-- walking a tree defined via tuples of the form (<name>, children*)\n",
    "\n",
    "let symtab = [\n",
    "    (\"x\", 3),\n",
    "    (\"y\", 2),\n",
    "    (\"z\", 1)\n",
    "].\n",
    "\n",
    "function tree_walk\n",
    "    with (\"+\", l, r) do\n",
    "        return tree_walk l + tree_walk r.\n",
    "    orwith (\"-\", l, r) do\n",
    "        return tree_walk l - tree_walk r.\n",
    "    orwith (\"id\", name) do\n",
    "        return symtab{name} otherwise 0. -- choice operator if dictionary returns 'none'\n",
    "    orwith (\"num\", i) do\n",
    "        return i.\n",
    "    orwith node do\n",
    "        error \"unknown node type\", node.\n",
    "    end function\n",
    "    \n",
    "let tree = (\"+\", (\"num\", 2), (\"id\", \"x\")).\n",
    "\n",
    "println tree_walk tree.\n",
    "'''\n",
    "\n",
    "interp(tree_walk)"
   ]
  },
  {
   "cell_type": "code",
   "execution_count": null,
   "metadata": {
    "collapsed": true
   },
   "outputs": [],
   "source": [
    "ulisp = \\\n",
    "'''\n",
    "-- micro lisp interpreter\n",
    "\n",
    "-- define the type of lisp commands we have\n",
    "constructor prog with arity 0.\n",
    "constructor setq with arity 0.\n",
    "constructor put with arity 0.\n",
    "constructor id with arity 0.\n",
    "constructor int with arity 0.\n",
    "constructor add with arity 0.\n",
    "constructor sub with arity 0.\n",
    "\n",
    "-- our symbol table: a list viewed as a dictionary\n",
    "let symtab = [].\n",
    "\n",
    "-- our interpreter\n",
    "function ulisp\n",
    "    with [] do\n",
    "        return none.\n",
    "    orwith [prog|t] do\n",
    "        with [instr | rest] = t do\n",
    "            ulisp instr. -- recurse over instruction\n",
    "            ulisp rest. -- recurse over rest of program\n",
    "            return none.\n",
    "        end with\n",
    "    orwith (setq, v, c) do\n",
    "        let symtab{v} = ulisp c.  -- dictionary update\n",
    "        return none.\n",
    "    orwith (put, c) do\n",
    "        print ulisp c.\n",
    "        return none.\n",
    "    orwith (id, v) do\n",
    "        return symtab{v} otherwise 0.\n",
    "    orwith (int, v) do\n",
    "        return v.\n",
    "    orwith (add, cl, cr) do\n",
    "        return ulisp cl + ulisp cr.\n",
    "    orwith (sub, cl, cr) do\n",
    "        return ulisp cl - ulisp cr.\n",
    "    orwith node do\n",
    "        error \"unknown node type\", node.\n",
    "    end function\n",
    "\n",
    "-- define a program to execute\n",
    "let p = '(prog,\n",
    "    (setq, \"x\", (int, 1)),\n",
    "    (setq, \"y\", (int, 2)),\n",
    "    (put, (add, (id, \"x\"), (id, \"y\")))\n",
    "    ).\n",
    "\n",
    "-- run it\n",
    "ulisp p.\n",
    "\n",
    "'''\n",
    "\n",
    "interp(ulisp)"
   ]
  },
  {
   "cell_type": "code",
   "execution_count": null,
   "metadata": {
    "collapsed": true,
    "scrolled": true
   },
   "outputs": [],
   "source": [
    "interp(\"with i = 2, j = 2 do println i, j end with\")"
   ]
  },
  {
   "cell_type": "code",
   "execution_count": null,
   "metadata": {
    "collapsed": true
   },
   "outputs": [],
   "source": [
    "peano2 = \\\n",
    "'''\n",
    "-- implements Peano addition using a lookup table for the rewrite rules\n",
    "\n",
    "-- here we declare the successor function as a term constructor so that we \n",
    "-- can pattern match on it.\n",
    "constructor S with arity 1.\n",
    "\n",
    "function reduce with term do\n",
    "\n",
    "    -- rule table uses 'reduce' recursively therefore we need\n",
    "    -- to declare it here\n",
    "    let rule_table = \n",
    "        [('X + 0, 'reduce X),\n",
    "         ('X + S Y, 'S reduce (X + Y))].\n",
    "\n",
    "    -- try to apply the rules to the current term\n",
    "    for i in 0 to length rule_table - 1 do\n",
    "        let rule = rule_table[i].\n",
    "        let lhs, rhs = rule.\n",
    "        if term is *lhs do\n",
    "            -- value is a built-in and let's you interpret terms\n",
    "            -- Note: the default behavior is the evaluation of terms\n",
    "            -- so we could have just written 'return rhs'\n",
    "            return value rhs.\n",
    "        end if\n",
    "    end for\n",
    "    return term.\n",
    "\n",
    "end function\n",
    "\n",
    "let n = 'S S 0 + S S S 0.\n",
    "\n",
    "print reduce n.\n",
    "\n",
    "-- NOTE: quoted expressions are term structures, that is, their structure is validated\n",
    "-- but they are not evaluated in the current context of the program.  this is important\n",
    "-- in their use in the rule_table above. here the term, '(S reduce (X + Y))), is validated\n",
    "-- but not evaluated.  compare this to the expression (S reduce (X + Y))) where the \n",
    "-- reduce function would be immediately evaluated without much success because the variables\n",
    "-- X and Y are free variables and therefore not bound to anything useful.\n",
    "'''\n",
    "\n",
    "interp(peano2)"
   ]
  },
  {
   "cell_type": "code",
   "execution_count": null,
   "metadata": {
    "collapsed": true
   },
   "outputs": [],
   "source": [
    "curried = \\\n",
    "'''\n",
    "-- Asteroid supports function currying\n",
    "\n",
    "print (lambda with a do return lambda with b do return a + b) 1 2.\n",
    "'''\n",
    "\n",
    "interp(curried)"
   ]
  },
  {
   "cell_type": "code",
   "execution_count": null,
   "metadata": {
    "collapsed": true
   },
   "outputs": [],
   "source": [
    "list_comprehension = \\\n",
    "'''\n",
    "-- this program builds the matrix\n",
    "-- [[(1,1), (1,2), (1,3)],\n",
    "--  [(2,1), (2,2), (2,3)],\n",
    "--  [(3,1), (3,2), (3,3)]]\n",
    "-- using list comprehensions. \n",
    "\n",
    "let m = [[(j,i) where i in [1,2,3]] where j in [1,2,3]].\n",
    "\n",
    "-- we could get away with:\n",
    "let m1 = [(j,i) where i in 1,2,3] where j in 1,2,3.\n",
    "\n",
    "-- however if we remove the remaining brackets then the program becomes syntactically ambiguous\n",
    "\n",
    "println m.\n",
    "'''\n",
    "\n",
    "interp(list_comprehension)"
   ]
  },
  {
   "cell_type": "code",
   "execution_count": null,
   "metadata": {
    "collapsed": true
   },
   "outputs": [],
   "source": []
  }
 ],
 "metadata": {
  "kernelspec": {
   "display_name": "Python 3",
   "language": "python",
   "name": "python3"
  },
  "language_info": {
   "codemirror_mode": {
    "name": "ipython",
    "version": 3
   },
   "file_extension": ".py",
   "mimetype": "text/x-python",
   "name": "python",
   "nbconvert_exporter": "python",
   "pygments_lexer": "ipython3",
   "version": "3.6.1"
  }
 },
 "nbformat": 4,
 "nbformat_minor": 2
}
