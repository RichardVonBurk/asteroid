{
 "cells": [
  {
   "cell_type": "code",
   "execution_count": 1,
   "metadata": {
    "collapsed": true
   },
   "outputs": [],
   "source": [
    "from asteroid_interp import interp"
   ]
  },
  {
   "cell_type": "code",
   "execution_count": null,
   "metadata": {
    "collapsed": true
   },
   "outputs": [],
   "source": [
    "program = \\\n",
    "'''\n",
    "load \"io.ast\".\n",
    "\n",
    "let lambda with x do return x = lambda with x do return x.\n",
    "\n",
    "let lambda with self do print \"hello\" = lambda with self do print \"hello\".\n",
    "'''\n",
    "interp(program, tree_dump=False, symtab_dump=True)"
   ]
  },
  {
   "cell_type": "code",
   "execution_count": null,
   "metadata": {
    "collapsed": true
   },
   "outputs": [],
   "source": [
    "list_comprehension = \\\n",
    "'''\n",
    "-- NOT YET IMPLEMENTED\n",
    "\n",
    "-- this program builds the matrix\n",
    "-- [[(1,1), (1,2), (1,3)],\n",
    "--  [(2,1), (2,2), (2,3)],\n",
    "--  [(3,1), (3,2), (3,3)]]\n",
    "-- using list comprehensions. \n",
    "\n",
    "let m = [[(j,i) where i in [1,2,3]] where j in [1,2,3]].\n",
    "\n",
    "-- we could get away with:\n",
    "let m1 = [(j,i) where i in 1,2,3] where j in 1,2,3.\n",
    "\n",
    "-- however if we remove the remaining brackets then the program becomes syntactically ambiguous\n",
    "\n",
    "println m.\n",
    "'''\n",
    "\n",
    "interp(list_comprehension)"
   ]
  }
 ],
 "metadata": {
  "kernelspec": {
   "display_name": "Python 3",
   "language": "python",
   "name": "python3"
  },
  "language_info": {
   "codemirror_mode": {
    "name": "ipython",
    "version": 3
   },
   "file_extension": ".py",
   "mimetype": "text/x-python",
   "name": "python",
   "nbconvert_exporter": "python",
   "pygments_lexer": "ipython3",
   "version": "3.6.1"
  }
 },
 "nbformat": 4,
 "nbformat_minor": 2
}
