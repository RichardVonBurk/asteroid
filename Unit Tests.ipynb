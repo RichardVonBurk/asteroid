{
 "cells": [
  {
   "cell_type": "code",
   "execution_count": 1,
   "metadata": {
    "collapsed": true
   },
   "outputs": [],
   "source": [
    "from asteroid_interp import interp"
   ]
  },
  {
   "cell_type": "code",
   "execution_count": null,
   "metadata": {},
   "outputs": [],
   "source": [
    "interp(\"let v = 1. let v = 2.\")"
   ]
  },
  {
   "cell_type": "code",
   "execution_count": null,
   "metadata": {},
   "outputs": [],
   "source": [
    "array_rval = \\\n",
    "'''\n",
    "-- reverse the list\n",
    "let a = [1,2,3].\n",
    "let a = a[2,1,0].\n",
    "print a.\n",
    "\n",
    "-- access multidim array\n",
    "let b = [[1,2,3],\n",
    "         [4,5,6],\n",
    "         [7,8,9]].\n",
    "let e = b[1][1]\n",
    "print e.\n",
    "'''\n",
    "interp(array_rval, exceptions=True)"
   ]
  },
  {
   "cell_type": "code",
   "execution_count": 3,
   "metadata": {},
   "outputs": [
    {
     "name": "stdout",
     "output_type": "stream",
     "text": [
      "\n",
      "(seq \n",
      "  |(assign \n",
      "  |  |(id a) \n",
      "  |  |(list \n",
      "  |  |  |[ \n",
      "  |  |  |  |(integer 1) \n",
      "  |  |  |  |(integer 2) \n",
      "  |  |  |  |(integer 3)])) \n",
      "  |(seq \n",
      "  |  |(assign \n",
      "  |  |  |(list \n",
      "  |  |  |  |[ \n",
      "  |  |  |  |  |(juxta \n",
      "  |  |  |  |  |  |(id a) \n",
      "  |  |  |  |  |  |(juxta \n",
      "  |  |  |  |  |  |  |(list \n",
      "  |  |  |  |  |  |  |  |[ \n",
      "  |  |  |  |  |  |  |  |  |(integer 2)]) \n",
      "  |  |  |  |  |  |  |(nil))) \n",
      "  |  |  |  |  |(juxta \n",
      "  |  |  |  |  |  |(id a) \n",
      "  |  |  |  |  |  |(juxta \n",
      "  |  |  |  |  |  |  |(list \n",
      "  |  |  |  |  |  |  |  |[ \n",
      "  |  |  |  |  |  |  |  |  |(integer 1)]) \n",
      "  |  |  |  |  |  |  |(nil))) \n",
      "  |  |  |  |  |(juxta \n",
      "  |  |  |  |  |  |(id a) \n",
      "  |  |  |  |  |  |(juxta \n",
      "  |  |  |  |  |  |  |(list \n",
      "  |  |  |  |  |  |  |  |[ \n",
      "  |  |  |  |  |  |  |  |  |(integer 0)]) \n",
      "  |  |  |  |  |  |  |(nil)))]) \n",
      "  |  |  |(id a)) \n",
      "  |  |(seq \n",
      "  |  |  |(print \n",
      "  |  |  |  |(id a) \n",
      "  |  |  |  |(file-name \n",
      "  |  |  |  |  |(nil))) \n",
      "  |  |  |(nil))))\n",
      "assigning ('integer', '1') to [('integer', '1'), ('integer', '2'), ('integer', '3')] at 2\n",
      "assigning ('integer', '2') to [('integer', '1'), ('integer', '2'), ('integer', '1')] at 1\n",
      "assigning ('integer', '3') to [('integer', '1'), ('integer', '2'), ('integer', '1')] at 0\n",
      "('list', [('integer', '3'), ('integer', '2'), ('integer', '1')])\n",
      "Symbol Table Dump:\n",
      "[{'__minus__': [('constructor', ('arity', 2))],\n",
      "  '__plus__': [('constructor', ('arity', 2))],\n",
      "  'a': [('list', [('integer', '3'), ('integer', '2'), ('integer', '1')])]}]\n"
     ]
    }
   ],
   "source": [
    "array_lval = \\\n",
    "'''\n",
    "let a = [1,2,3].\n",
    "let a[2],a[1],a[0] = a.\n",
    "print a\n",
    "'''\n",
    "interp(array_lval, exceptions=True)"
   ]
  },
  {
   "cell_type": "code",
   "execution_count": null,
   "metadata": {
    "collapsed": true
   },
   "outputs": [],
   "source": [
    "graphics = \\\n",
    "'''\n",
    "-- Asteroid graphics\n",
    "-- we can incorporate Python graphics into Asteroid via\n",
    "-- escaped Python code\n",
    "\n",
    "function circle with x, y, r do escape\n",
    "\"\n",
    "#########################################################\n",
    "vx = float(state.symbol_table.lookup_sym('x')[1])\n",
    "vy = float(state.symbol_table.lookup_sym('y')[1])\n",
    "vr = float(state.symbol_table.lookup_sym('r')[1])\n",
    "\n",
    "import matplotlib.pyplot as plt\n",
    "\n",
    "circle = plt.Circle((vx, vy), vr, color='blue')\n",
    "fig, ax = plt.subplots()\n",
    "ax.add_artist(circle)\n",
    "plt.show()\n",
    "#########################################################\n",
    "\"\n",
    "end function\n",
    "\n",
    "-- call the escaped function\n",
    "circle(.5, .5, .2)\n",
    "'''\n",
    "interp(graphics, exceptions=False, tree_dump=False, symtab_dump=False)"
   ]
  },
  {
   "cell_type": "code",
   "execution_count": null,
   "metadata": {
    "collapsed": true
   },
   "outputs": [],
   "source": [
    "attach = \\\n",
    "'''\n",
    "-- the 'add' function implements the behavior for \n",
    "-- the '+' operator for ints, reals, and strings.\n",
    "\n",
    "function add with a, b do return escape \n",
    "\"\n",
    "###################################################################\n",
    "# return register from 'escape' calls\n",
    "global __retval__ \n",
    "\n",
    "# 'promote' is the type promotion table for primitive\n",
    "# builtin types which implement the type hierarchy:\n",
    "#    integer < real < string\n",
    "type = promote(state.symbol_table.lookup_sym('a')[0], \n",
    "               state.symbol_table.lookup_sym('b')[0])\n",
    "\n",
    "# select the correct add according to type\n",
    "if type == 'integer':\n",
    "    __retval__ = ('integer', \n",
    "            int(state.symbol_table.lookup_sym('a')[1]) + \n",
    "            int(state.symbol_table.lookup_sym('b')[1]))\n",
    "\n",
    "elif type == 'real':\n",
    "    __retval__ = ('real', \n",
    "            float(state.symbol_table.lookup_sym('a')[1]) + \n",
    "            float(state.symbol_table.lookup_sym('b')[1]))\n",
    "\n",
    "elif type == 'string':\n",
    "    __retval__ = ('string', \n",
    "            str(state.symbol_table.lookup_sym('a')[1])+\n",
    "            str(state.symbol_table.lookup_sym('b')[1]))\n",
    "\n",
    "else:\n",
    "    raise ValueError('unsupported type in add')\n",
    "###################################################################\n",
    "\"     \n",
    "end function\n",
    "\n",
    "-- attach the behavior to the '+' constructor\n",
    "attach add to __plus__.\n",
    "\n",
    "-- test the '+' operator with different data types\n",
    "let x = 1.2 + 2 .\n",
    "print x.\n",
    "print \"the output is: \" + x.\n",
    "-- print [1,2] + 3.\n",
    "'''\n",
    "interp(attach, tree_dump=False, symtab_dump=False, exceptions=False)"
   ]
  },
  {
   "cell_type": "code",
   "execution_count": null,
   "metadata": {
    "collapsed": true
   },
   "outputs": [],
   "source": [
    "interp(\"let x = 1 + 2. print x.\")"
   ]
  },
  {
   "cell_type": "code",
   "execution_count": null,
   "metadata": {
    "collapsed": true
   },
   "outputs": [],
   "source": [
    "interp(\"let x = 1.3 . print x.\")"
   ]
  },
  {
   "cell_type": "code",
   "execution_count": null,
   "metadata": {
    "collapsed": true
   },
   "outputs": [],
   "source": [
    "interp(\"let 1,y = 1,2. print 1,y.\")"
   ]
  },
  {
   "cell_type": "code",
   "execution_count": null,
   "metadata": {
    "collapsed": true
   },
   "outputs": [],
   "source": [
    "interp(\"let x,2 = 1,2. print x,2.\")"
   ]
  },
  {
   "cell_type": "code",
   "execution_count": null,
   "metadata": {
    "collapsed": true
   },
   "outputs": [],
   "source": [
    "interp(\"let s = 1,2. let x,y = s. print x,y.\")"
   ]
  },
  {
   "cell_type": "code",
   "execution_count": null,
   "metadata": {
    "collapsed": true
   },
   "outputs": [],
   "source": [
    "interp(\"function ident with n do return n end function print ident(2).\")"
   ]
  },
  {
   "cell_type": "code",
   "execution_count": null,
   "metadata": {
    "collapsed": true
   },
   "outputs": [],
   "source": [
    "interp(\"function ident with n do return n end function print ident ident 2 .\", exceptions=True)"
   ]
  },
  {
   "cell_type": "code",
   "execution_count": null,
   "metadata": {
    "collapsed": true
   },
   "outputs": [],
   "source": [
    "interp(\"let _, x = [1], 2.\")"
   ]
  },
  {
   "cell_type": "code",
   "execution_count": null,
   "metadata": {
    "collapsed": true
   },
   "outputs": [],
   "source": [
    "lambda1 = \\\n",
    "'''\n",
    "load \"std_ops.ast\"\n",
    "print (lambda with n do return n+1) 1\n",
    "'''\n",
    "interp(lambda1, tree_dump=False, symtab_dump=False)"
   ]
  },
  {
   "cell_type": "code",
   "execution_count": null,
   "metadata": {
    "collapsed": true
   },
   "outputs": [],
   "source": [
    "curried = \\\n",
    "'''\n",
    "-- Asteroid does not support function currying because\n",
    "-- of the dynamic scoping of functions\n",
    "\n",
    "print (lambda with a do return lambda with b do return a + b) 1 2.\n",
    "'''\n",
    "\n",
    "interp(curried, tree_dump=False)"
   ]
  },
  {
   "cell_type": "code",
   "execution_count": null,
   "metadata": {
    "collapsed": true
   },
   "outputs": [],
   "source": []
  }
 ],
 "metadata": {
  "kernelspec": {
   "display_name": "Python 3",
   "language": "python",
   "name": "python3"
  },
  "language_info": {
   "codemirror_mode": {
    "name": "ipython",
    "version": 3
   },
   "file_extension": ".py",
   "mimetype": "text/x-python",
   "name": "python",
   "nbconvert_exporter": "python",
   "pygments_lexer": "ipython3",
   "version": "3.6.1"
  }
 },
 "nbformat": 4,
 "nbformat_minor": 2
}
