{
 "cells": [
  {
   "cell_type": "code",
   "execution_count": 1,
   "metadata": {},
   "outputs": [],
   "source": [
    "from asteroid_interp import interp"
   ]
  },
  {
   "cell_type": "code",
   "execution_count": 2,
   "metadata": {},
   "outputs": [
    {
     "name": "stdout",
     "output_type": "stream",
     "text": [
      "\n",
      "(seq \n",
      "  |(assign \n",
      "  |  |(id a) \n",
      "  |  |(integer 1)) \n",
      "  |(seq \n",
      "  |  |(assign \n",
      "  |  |  |(id b) \n",
      "  |  |  |(integer 1)) \n",
      "  |  |(seq \n",
      "  |  |  |(assign \n",
      "  |  |  |  |(id v1) \n",
      "  |  |  |  |(eval ('integer', \n",
      "        int(state.symbol_table.lookup_sym('a')[1]) + \n",
      "        int(state.symbol_table.lookup_sym('b')[1])))) \n",
      "  |  |  |(seq \n",
      "  |  |  |  |(print \n",
      "  |  |  |  |  |(id v1) \n",
      "  |  |  |  |  |(file-name \n",
      "  |  |  |  |  |  |(nil))) \n",
      "  |  |  |  |(nil)))))\n",
      "None\n",
      "Symbol Table Dump:\n",
      "[{'__minus__': [('constructor', ('arity', 2))],\n",
      "  '__plus__': [('constructor', ('arity', 2))],\n",
      "  'a': [('integer', '1')],\n",
      "  'b': [('integer', '1')],\n",
      "  'v1': [None]}]\n"
     ]
    }
   ],
   "source": [
    "eval_test = \\\n",
    "'''\n",
    "let a = 1.\n",
    "let b = 1.\n",
    "let v1 = eval \n",
    "    \"('integer', \n",
    "        int(state.symbol_table.lookup_sym('a')[1]) + \n",
    "        int(state.symbol_table.lookup_sym('b')[1]))\".\n",
    "\n",
    "print v1.\n",
    "'''\n",
    "interp(eval_test)"
   ]
  },
  {
   "cell_type": "code",
   "execution_count": 3,
   "metadata": {},
   "outputs": [
    {
     "name": "stdout",
     "output_type": "stream",
     "text": [
      "('__plus__', ('real', '1.2'), ('integer', '2'))\n",
      "('__plus__', ('string', 'the output is: '), ('__plus__', ('real', '1.2'), ('integer', '2')))\n"
     ]
    }
   ],
   "source": [
    "attach = \\\n",
    "'''\n",
    "-- this function implements the behavior for the '+' operator for ints, reals, and strings.\n",
    "\n",
    "function add with a,b do\n",
    "    let v1 = eval \n",
    "\"\n",
    "global __retval__ # return register from 'eval' calls\n",
    "type = promote(state.symbol_table.lookup_sym('a')[0], \n",
    "               state.symbol_table.lookup_sym('b')[0])\n",
    "if type == 'real':\n",
    "    __retval__ = ('real', \n",
    "            float(state.symbol_table.lookup_sym('a')[1]) + \n",
    "            float(state.symbol_table.lookup_sym('b')[1]))\n",
    "elif type == 'integer':\n",
    "    __retval__ = ('integer', \n",
    "            int(state.symbol_table.lookup_sym('a')[1]) + \n",
    "            int(state.symbol_table.lookup_sym('b')[1]))\n",
    "elif type == 'string':\n",
    "    __retval__ = ('string', \n",
    "            str(state.symbol_table.lookup_sym('a')[1])+\n",
    "            str(state.symbol_table.lookup_sym('b')[1]))\n",
    "else:\n",
    "    raise ValueError('unsupported type in add')\n",
    "\".\n",
    "        \n",
    "    return v1\n",
    "end function\n",
    "\n",
    "-- attach add to __plus__.\n",
    "\n",
    "let x = 1.2 + 2 .\n",
    "print x.\n",
    "print \"the output is: \" + x.\n",
    "'''\n",
    "interp(attach, tree_dump=False, symtab_dump=False, exceptions=True)"
   ]
  },
  {
   "cell_type": "code",
   "execution_count": 4,
   "metadata": {},
   "outputs": [
    {
     "name": "stdout",
     "output_type": "stream",
     "text": [
      "\n",
      "(seq \n",
      "  |(assign \n",
      "  |  |(id x) \n",
      "  |  |(__plus__ \n",
      "  |  |  |(integer 1) \n",
      "  |  |  |(integer 2))) \n",
      "  |(seq \n",
      "  |  |(print \n",
      "  |  |  |(id x) \n",
      "  |  |  |(file-name \n",
      "  |  |  |  |(nil))) \n",
      "  |  |(nil)))\n",
      "('__plus__', ('integer', '1'), ('integer', '2'))\n",
      "Symbol Table Dump:\n",
      "[{'__minus__': [('constructor', ('arity', 2))],\n",
      "  '__plus__': [('constructor', ('arity', 2))],\n",
      "  'x': [('__plus__', ('integer', '1'), ('integer', '2'))]}]\n"
     ]
    }
   ],
   "source": [
    "interp(\"let x = 1 + 2. print x.\")"
   ]
  },
  {
   "cell_type": "code",
   "execution_count": 5,
   "metadata": {},
   "outputs": [
    {
     "name": "stdout",
     "output_type": "stream",
     "text": [
      "\n",
      "(seq \n",
      "  |(assign \n",
      "  |  |(id x) \n",
      "  |  |(real 1.3)) \n",
      "  |(seq \n",
      "  |  |(print \n",
      "  |  |  |(id x) \n",
      "  |  |  |(file-name \n",
      "  |  |  |  |(nil))) \n",
      "  |  |(nil)))\n",
      "('real', '1.3')\n",
      "Symbol Table Dump:\n",
      "[{'__minus__': [('constructor', ('arity', 2))],\n",
      "  '__plus__': [('constructor', ('arity', 2))],\n",
      "  'x': [('real', '1.3')]}]\n"
     ]
    }
   ],
   "source": [
    "interp(\"let x = 1.3 . print x.\")"
   ]
  },
  {
   "cell_type": "code",
   "execution_count": 6,
   "metadata": {},
   "outputs": [
    {
     "name": "stdout",
     "output_type": "stream",
     "text": [
      "\n",
      "(seq \n",
      "  |(assign \n",
      "  |  |(list \n",
      "  |  |  |[ \n",
      "  |  |  |  |(integer 1) \n",
      "  |  |  |  |(id y)]) \n",
      "  |  |(list \n",
      "  |  |  |[ \n",
      "  |  |  |  |(integer 1) \n",
      "  |  |  |  |(integer 2)])) \n",
      "  |(seq \n",
      "  |  |(print \n",
      "  |  |  |(list \n",
      "  |  |  |  |[ \n",
      "  |  |  |  |  |(integer 1) \n",
      "  |  |  |  |  |(id y)]) \n",
      "  |  |  |(file-name \n",
      "  |  |  |  |(nil))) \n",
      "  |  |(nil)))\n",
      "('list', [('integer', '1'), ('integer', '2')])\n",
      "Symbol Table Dump:\n",
      "[{'__minus__': [('constructor', ('arity', 2))],\n",
      "  '__plus__': [('constructor', ('arity', 2))],\n",
      "  'y': [('integer', '2')]}]\n"
     ]
    }
   ],
   "source": [
    "interp(\"let 1,y = 1,2. print 1,y.\")"
   ]
  },
  {
   "cell_type": "code",
   "execution_count": 7,
   "metadata": {},
   "outputs": [
    {
     "name": "stdout",
     "output_type": "stream",
     "text": [
      "\n",
      "(seq \n",
      "  |(assign \n",
      "  |  |(list \n",
      "  |  |  |[ \n",
      "  |  |  |  |(id x) \n",
      "  |  |  |  |(integer 2)]) \n",
      "  |  |(list \n",
      "  |  |  |[ \n",
      "  |  |  |  |(integer 1) \n",
      "  |  |  |  |(integer 2)])) \n",
      "  |(seq \n",
      "  |  |(print \n",
      "  |  |  |(list \n",
      "  |  |  |  |[ \n",
      "  |  |  |  |  |(id x) \n",
      "  |  |  |  |  |(integer 2)]) \n",
      "  |  |  |(file-name \n",
      "  |  |  |  |(nil))) \n",
      "  |  |(nil)))\n",
      "('list', [('integer', '1'), ('integer', '2')])\n",
      "Symbol Table Dump:\n",
      "[{'__minus__': [('constructor', ('arity', 2))],\n",
      "  '__plus__': [('constructor', ('arity', 2))],\n",
      "  'x': [('integer', '1')]}]\n"
     ]
    }
   ],
   "source": [
    "interp(\"let x,2 = 1,2. print x,2.\")"
   ]
  },
  {
   "cell_type": "code",
   "execution_count": 8,
   "metadata": {},
   "outputs": [
    {
     "name": "stdout",
     "output_type": "stream",
     "text": [
      "\n",
      "(seq \n",
      "  |(assign \n",
      "  |  |(id s) \n",
      "  |  |(list \n",
      "  |  |  |[ \n",
      "  |  |  |  |(integer 1) \n",
      "  |  |  |  |(integer 2)])) \n",
      "  |(seq \n",
      "  |  |(assign \n",
      "  |  |  |(list \n",
      "  |  |  |  |[ \n",
      "  |  |  |  |  |(id x) \n",
      "  |  |  |  |  |(id y)]) \n",
      "  |  |  |(id s)) \n",
      "  |  |(seq \n",
      "  |  |  |(print \n",
      "  |  |  |  |(list \n",
      "  |  |  |  |  |[ \n",
      "  |  |  |  |  |  |(id x) \n",
      "  |  |  |  |  |  |(id y)]) \n",
      "  |  |  |  |(file-name \n",
      "  |  |  |  |  |(nil))) \n",
      "  |  |  |(nil))))\n",
      "('list', [('integer', '1'), ('integer', '2')])\n",
      "Symbol Table Dump:\n",
      "[{'__minus__': [('constructor', ('arity', 2))],\n",
      "  '__plus__': [('constructor', ('arity', 2))],\n",
      "  's': [('list', [('integer', '1'), ('integer', '2')])],\n",
      "  'x': [('integer', '1')],\n",
      "  'y': [('integer', '2')]}]\n"
     ]
    }
   ],
   "source": [
    "interp(\"let s = 1,2. let x,y = s. print x,y.\")"
   ]
  },
  {
   "cell_type": "code",
   "execution_count": 9,
   "metadata": {},
   "outputs": [
    {
     "name": "stdout",
     "output_type": "stream",
     "text": [
      "\n",
      "(seq \n",
      "  |(assign \n",
      "  |  |(id ident) \n",
      "  |  |(function \n",
      "  |  |  |(body-list \n",
      "  |  |  |  |(seq \n",
      "  |  |  |  |  |(body \n",
      "  |  |  |  |  |  |(pattern \n",
      "  |  |  |  |  |  |  |(id n)) \n",
      "  |  |  |  |  |  |(stmt-list \n",
      "  |  |  |  |  |  |  |(seq \n",
      "  |  |  |  |  |  |  |  |(return \n",
      "  |  |  |  |  |  |  |  |  |(id n)) \n",
      "  |  |  |  |  |  |  |  |(nil)))) \n",
      "  |  |  |  |  |(nil))))) \n",
      "  |(seq \n",
      "  |  |(print \n",
      "  |  |  |(juxta \n",
      "  |  |  |  |(id ident) \n",
      "  |  |  |  |(juxta \n",
      "  |  |  |  |  |(integer 2) \n",
      "  |  |  |  |  |(nil))) \n",
      "  |  |  |(file-name \n",
      "  |  |  |  |(nil))) \n",
      "  |  |(nil)))\n",
      "('integer', '2')\n",
      "Symbol Table Dump:\n",
      "[{'__minus__': [('constructor', ('arity', 2))],\n",
      "  '__plus__': [('constructor', ('arity', 2))],\n",
      "  'ident': [('function',\n",
      "             ('body-list',\n",
      "              ('seq',\n",
      "               ('body',\n",
      "                ('pattern', ('id', 'n')),\n",
      "                ('stmt-list', ('seq', ('return', ('id', 'n')), ('nil',)))),\n",
      "               ('nil',))))]}]\n"
     ]
    }
   ],
   "source": [
    "interp(\"function ident with n do return n end function print ident(2).\")"
   ]
  },
  {
   "cell_type": "code",
   "execution_count": 10,
   "metadata": {},
   "outputs": [
    {
     "name": "stdout",
     "output_type": "stream",
     "text": [
      "\n",
      "(seq \n",
      "  |(assign \n",
      "  |  |(id ident) \n",
      "  |  |(function \n",
      "  |  |  |(body-list \n",
      "  |  |  |  |(seq \n",
      "  |  |  |  |  |(body \n",
      "  |  |  |  |  |  |(pattern \n",
      "  |  |  |  |  |  |  |(id n)) \n",
      "  |  |  |  |  |  |(stmt-list \n",
      "  |  |  |  |  |  |  |(seq \n",
      "  |  |  |  |  |  |  |  |(return \n",
      "  |  |  |  |  |  |  |  |  |(id n)) \n",
      "  |  |  |  |  |  |  |  |(nil)))) \n",
      "  |  |  |  |  |(nil))))) \n",
      "  |(seq \n",
      "  |  |(print \n",
      "  |  |  |(juxta \n",
      "  |  |  |  |(id ident) \n",
      "  |  |  |  |(juxta \n",
      "  |  |  |  |  |(id ident) \n",
      "  |  |  |  |  |(juxta \n",
      "  |  |  |  |  |  |(integer 2) \n",
      "  |  |  |  |  |  |(nil)))) \n",
      "  |  |  |(file-name \n",
      "  |  |  |  |(nil))) \n",
      "  |  |(nil)))\n",
      "('integer', '2')\n",
      "Symbol Table Dump:\n",
      "[{'__minus__': [('constructor', ('arity', 2))],\n",
      "  '__plus__': [('constructor', ('arity', 2))],\n",
      "  'ident': [('function',\n",
      "             ('body-list',\n",
      "              ('seq',\n",
      "               ('body',\n",
      "                ('pattern', ('id', 'n')),\n",
      "                ('stmt-list', ('seq', ('return', ('id', 'n')), ('nil',)))),\n",
      "               ('nil',))))]}]\n"
     ]
    }
   ],
   "source": [
    "interp(\"function ident with n do return n end function print ident ident 2 .\", exceptions=True)"
   ]
  },
  {
   "cell_type": "code",
   "execution_count": 11,
   "metadata": {},
   "outputs": [
    {
     "name": "stdout",
     "output_type": "stream",
     "text": [
      "\n",
      "(seq \n",
      "  |(assign \n",
      "  |  |(list \n",
      "  |  |  |[ \n",
      "  |  |  |  |(id _) \n",
      "  |  |  |  |(id x)]) \n",
      "  |  |(list \n",
      "  |  |  |[ \n",
      "  |  |  |  |(list \n",
      "  |  |  |  |  |[ \n",
      "  |  |  |  |  |  |(integer 1)]) \n",
      "  |  |  |  |(integer 2)])) \n",
      "  |(nil))\n",
      "Symbol Table Dump:\n",
      "[{'__minus__': [('constructor', ('arity', 2))],\n",
      "  '__plus__': [('constructor', ('arity', 2))],\n",
      "  'x': [('integer', '2')]}]\n"
     ]
    }
   ],
   "source": [
    "interp(\"let _, x = [1], 2.\")"
   ]
  },
  {
   "cell_type": "code",
   "execution_count": 12,
   "metadata": {},
   "outputs": [
    {
     "name": "stdout",
     "output_type": "stream",
     "text": [
      "\n",
      "(seq \n",
      "  |(assign \n",
      "  |  |(id x) \n",
      "  |  |(juxta \n",
      "  |  |  |(id y) \n",
      "  |  |  |(juxta \n",
      "  |  |  |  |(list \n",
      "  |  |  |  |  |[ \n",
      "  |  |  |  |  |  |(integer 0)]) \n",
      "  |  |  |  |(juxta \n",
      "  |  |  |  |  |(list \n",
      "  |  |  |  |  |  |[ \n",
      "  |  |  |  |  |  |  |(integer 1)]) \n",
      "  |  |  |  |  |(nil))))) \n",
      "  |(nil))\n",
      "Error: y is not defined\n"
     ]
    }
   ],
   "source": [
    "interp(\"let x = y[0][1].\")"
   ]
  },
  {
   "cell_type": "code",
   "execution_count": null,
   "metadata": {
    "collapsed": true
   },
   "outputs": [],
   "source": []
  }
 ],
 "metadata": {
  "kernelspec": {
   "display_name": "Python 3",
   "language": "python",
   "name": "python3"
  },
  "language_info": {
   "codemirror_mode": {
    "name": "ipython",
    "version": 3
   },
   "file_extension": ".py",
   "mimetype": "text/x-python",
   "name": "python",
   "nbconvert_exporter": "python",
   "pygments_lexer": "ipython3",
   "version": "3.6.1"
  }
 },
 "nbformat": 4,
 "nbformat_minor": 2
}
