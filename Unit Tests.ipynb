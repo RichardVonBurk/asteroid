{
 "cells": [
  {
   "cell_type": "code",
   "execution_count": 1,
   "metadata": {},
   "outputs": [],
   "source": [
    "from asteroid_interp import interp"
   ]
  },
  {
   "cell_type": "code",
   "execution_count": null,
   "metadata": {},
   "outputs": [],
   "source": [
    "unary_ops = \\\n",
    "'''\n",
    "let x = -1.\n",
    "let y = not true.\n",
    "'''\n",
    "interp(unary_ops, tree_dump=True, symtab_dump=True)"
   ]
  },
  {
   "cell_type": "code",
   "execution_count": null,
   "metadata": {},
   "outputs": [],
   "source": [
    "apply = \\\n",
    "'''\n",
    "-- infix operators are just a shorthand for prefix terms \n",
    "-- using special names for the operators\n",
    "\n",
    "load \"standard.ast\".\n",
    "\n",
    "let x = __plus__ (1,1).\n",
    "let y = 1 + 1.\n",
    "\n",
    "let 1 + 1 = '__plus__ (1,1).\n",
    "'''\n",
    "interp(apply, tree_dump=True, symtab_dump=True)"
   ]
  },
  {
   "cell_type": "code",
   "execution_count": null,
   "metadata": {},
   "outputs": [],
   "source": [
    "struct_func = \\\n",
    "'''\n",
    "constructor A with arity 2.\n",
    "let a = A(\"Hello\", (lambda with self do return self@[0].))\n",
    "\n",
    "-- NOTE: precedence needs to be fixed!\n",
    "-- NOTE: function calls need the objid as the first arg\n",
    "print (a@[1]) a.\n",
    "'''\n",
    "interp(struct_func, tree_dump=True, symtab_dump=False, exceptions=False)"
   ]
  },
  {
   "cell_type": "code",
   "execution_count": 6,
   "metadata": {},
   "outputs": [
    {
     "name": "stdout",
     "output_type": "stream",
     "text": [
      "\n",
      "(seq \n",
      "  |(assign \n",
      "  |  |(id A) \n",
      "  |  |(constructor \n",
      "  |  |  |(arity 2))) \n",
      "  |(seq \n",
      "  |  |(assign \n",
      "  |  |  |(id a) \n",
      "  |  |  |(apply \n",
      "  |  |  |  |(id A) \n",
      "  |  |  |  |(apply \n",
      "  |  |  |  |  |(list \n",
      "  |  |  |  |  |  |[ \n",
      "  |  |  |  |  |  |  |(integer 1) \n",
      "  |  |  |  |  |  |  |(integer 2) \n",
      "  |  |  |  |  |  |  |(integer 3)]) \n",
      "  |  |  |  |  |(nil)))) \n",
      "  |  |(seq \n",
      "  |  |  |(assign \n",
      "  |  |  |  |(structure-ix \n",
      "  |  |  |  |  |(id a) \n",
      "  |  |  |  |  |(index \n",
      "  |  |  |  |  |  |(list \n",
      "  |  |  |  |  |  |  |[ \n",
      "  |  |  |  |  |  |  |  |(integer 1)]) \n",
      "  |  |  |  |  |  |(nil))) \n",
      "  |  |  |  |(integer 0)) \n",
      "  |  |  |(nil))))\n",
      "Symbol Table Dump:\n",
      "[{'A': [('constructor', ('arity', '2'))],\n",
      "  '__and__': [('constructor', ('arity', 2))],\n",
      "  '__divide__': [('constructor', ('arity', 2))],\n",
      "  '__eq__': [('constructor', ('arity', 2))],\n",
      "  '__ge__': [('constructor', ('arity', 2))],\n",
      "  '__gt__': [('constructor', ('arity', 2))],\n",
      "  '__headtail__': [('constructor', ('arity', 2))],\n",
      "  '__le__': [('constructor', ('arity', 2))],\n",
      "  '__lt__': [('constructor', ('arity', 2))],\n",
      "  '__minus__': [('constructor', ('arity', 2))],\n",
      "  '__ne__': [('constructor', ('arity', 2))],\n",
      "  '__not__': [('constructor', ('arity', 1))],\n",
      "  '__or__': [('constructor', ('arity', 2))],\n",
      "  '__plus__': [('constructor', ('arity', 2))],\n",
      "  '__times__': [('constructor', ('arity', 2))],\n",
      "  '__uminus__': [('constructor', ('arity', 1))],\n",
      "  'a': [('apply',\n",
      "         ('id', 'A'),\n",
      "         ('apply',\n",
      "          ('list', [('integer', '1'), ('integer', '0'), ('integer', '3')]),\n",
      "          ('nil',)))]}]\n"
     ]
    }
   ],
   "source": [
    "constr_lval = \\\n",
    "'''\n",
    "constructor A with arity 2.\n",
    "let a = A(1,2,3).\n",
    "let a@1 = 0.\n",
    "'''\n",
    "interp(constr_lval, tree_dump=True, symtab_dump=True, exceptions=False)"
   ]
  },
  {
   "cell_type": "code",
   "execution_count": 5,
   "metadata": {},
   "outputs": [
    {
     "name": "stdout",
     "output_type": "stream",
     "text": [
      "\n",
      "(seq \n",
      "  |(assign \n",
      "  |  |(id A) \n",
      "  |  |(constructor \n",
      "  |  |  |(arity 1))) \n",
      "  |(seq \n",
      "  |  |(assign \n",
      "  |  |  |(id a) \n",
      "  |  |  |(apply \n",
      "  |  |  |  |(id A) \n",
      "  |  |  |  |(apply \n",
      "  |  |  |  |  |(integer 1) \n",
      "  |  |  |  |  |(nil)))) \n",
      "  |  |(seq \n",
      "  |  |  |(assign \n",
      "  |  |  |  |(structure-ix \n",
      "  |  |  |  |  |(id a) \n",
      "  |  |  |  |  |(index \n",
      "  |  |  |  |  |  |(list \n",
      "  |  |  |  |  |  |  |[ \n",
      "  |  |  |  |  |  |  |  |(integer 0)]) \n",
      "  |  |  |  |  |  |(nil))) \n",
      "  |  |  |  |(integer 0)) \n",
      "  |  |  |(nil))))\n",
      "Symbol Table Dump:\n",
      "[{'A': [('constructor', ('arity', '1'))],\n",
      "  '__and__': [('constructor', ('arity', 2))],\n",
      "  '__divide__': [('constructor', ('arity', 2))],\n",
      "  '__eq__': [('constructor', ('arity', 2))],\n",
      "  '__ge__': [('constructor', ('arity', 2))],\n",
      "  '__gt__': [('constructor', ('arity', 2))],\n",
      "  '__headtail__': [('constructor', ('arity', 2))],\n",
      "  '__le__': [('constructor', ('arity', 2))],\n",
      "  '__lt__': [('constructor', ('arity', 2))],\n",
      "  '__minus__': [('constructor', ('arity', 2))],\n",
      "  '__ne__': [('constructor', ('arity', 2))],\n",
      "  '__not__': [('constructor', ('arity', 1))],\n",
      "  '__or__': [('constructor', ('arity', 2))],\n",
      "  '__plus__': [('constructor', ('arity', 2))],\n",
      "  '__times__': [('constructor', ('arity', 2))],\n",
      "  '__uminus__': [('constructor', ('arity', 1))],\n",
      "  'a': [('apply', ('id', 'A'), ('apply', ('integer', '0'), ('nil',)))]}]\n"
     ]
    }
   ],
   "source": [
    "constr_lval2 = \\\n",
    "'''\n",
    "constructor A with arity 1.\n",
    "let a = A(1).\n",
    "let a@[0] = 0.\n",
    "'''\n",
    "interp(constr_lval2, tree_dump=True, symtab_dump=True, exceptions=False)"
   ]
  },
  {
   "cell_type": "code",
   "execution_count": null,
   "metadata": {},
   "outputs": [],
   "source": [
    "array_lval = \\\n",
    "'''\n",
    "let a = [1,2,3].\n",
    "let a@[2],a@[1],a@[0] = a.\n",
    "print a\n",
    "'''\n",
    "interp(array_lval, tree_dump=False, symtab_dump=False, do_walk=True, exceptions=False)"
   ]
  },
  {
   "cell_type": "code",
   "execution_count": 7,
   "metadata": {},
   "outputs": [
    {
     "name": "stdout",
     "output_type": "stream",
     "text": [
      "Symbol Table Dump:\n",
      "[{'A': [('constructor', ('arity', '1'))],\n",
      "  'B': [('constructor', ('arity', '2'))],\n",
      "  '__and__': [('constructor', ('arity', 2))],\n",
      "  '__divide__': [('constructor', ('arity', 2))],\n",
      "  '__eq__': [('constructor', ('arity', 2))],\n",
      "  '__ge__': [('constructor', ('arity', 2))],\n",
      "  '__gt__': [('constructor', ('arity', 2))],\n",
      "  '__headtail__': [('constructor', ('arity', 2))],\n",
      "  '__le__': [('constructor', ('arity', 2))],\n",
      "  '__lt__': [('constructor', ('arity', 2))],\n",
      "  '__minus__': [('constructor', ('arity', 2))],\n",
      "  '__ne__': [('constructor', ('arity', 2))],\n",
      "  '__not__': [('constructor', ('arity', 1))],\n",
      "  '__or__': [('constructor', ('arity', 2))],\n",
      "  '__plus__': [('constructor', ('arity', 2))],\n",
      "  '__times__': [('constructor', ('arity', 2))],\n",
      "  '__uminus__': [('constructor', ('arity', 1))],\n",
      "  'v': [('integer', '1')],\n",
      "  'w': [('integer', '2')],\n",
      "  'x': [('apply', ('id', 'A'), ('apply', ('integer', '1'), ('nil',)))],\n",
      "  'xx': [('integer', '1')],\n",
      "  'y': [('apply',\n",
      "         ('id', 'B'),\n",
      "         ('apply', ('list', [('integer', '1'), ('integer', '2')]), ('nil',)))],\n",
      "  'yy': [('list', [('integer', '1'), ('integer', '2')])],\n",
      "  'z': [('integer', '1')]}]\n"
     ]
    }
   ],
   "source": [
    "struct = \\\n",
    "'''\n",
    "constructor A with arity 1.\n",
    "constructor B with arity 2.\n",
    "\n",
    "let x = A(1).\n",
    "let y = B(1,2).\n",
    "\n",
    "let A(z) = x.\n",
    "let B(v,w) = y.\n",
    "\n",
    "let xx = x@0.\n",
    "let yy = y@[0,1].\n",
    "\n",
    "'''\n",
    "interp(struct, tree_dump=False, symtab_dump=True, exceptions=True)"
   ]
  },
  {
   "cell_type": "code",
   "execution_count": null,
   "metadata": {},
   "outputs": [],
   "source": [
    "dict = \\\n",
    "'''\n",
    "let d = [(\"a\", 1)].\n",
    "\n",
    "print d@{a}.\n",
    "'''\n",
    "interp(dict, tree_dump=True)"
   ]
  },
  {
   "cell_type": "code",
   "execution_count": null,
   "metadata": {},
   "outputs": [],
   "source": [
    "arr = \\\n",
    "'''\n",
    "let v = 'a@[3].\n",
    "print v.\n",
    "'''\n",
    "interp(arr)"
   ]
  },
  {
   "cell_type": "code",
   "execution_count": null,
   "metadata": {},
   "outputs": [],
   "source": [
    "func = \\\n",
    "'''\n",
    "load \"standard.ast\".\n",
    "\n",
    "function inc with n do return n+1 end function\n",
    "\n",
    "let v = inc(inc(0)).\n",
    "let q = 1 + 1 + 1.\n",
    "print v, q.\n",
    "'''\n",
    "interp(func, tree_dump=False, symtab_dump=False)"
   ]
  },
  {
   "cell_type": "code",
   "execution_count": null,
   "metadata": {},
   "outputs": [],
   "source": [
    "constr = \\\n",
    "'''\n",
    "-- constructors and pattern matching\n",
    "\n",
    "-- load \"standard.ast\".\n",
    "\n",
    "constructor S with arity 1.\n",
    "attach (lambda with n do return 1+n) to S.\n",
    "\n",
    "let v = 'S(S(0)).\n",
    "print v.\n",
    "\n",
    "let v = S(S(0)).\n",
    "print v.\n",
    "\n",
    "let S (S (v))  = 'S(S(0)).\n",
    "print v.\n",
    "\n",
    "let S (S (0))  = 'S(S(0)).\n",
    "\n",
    "\n",
    "let [[v]] = [[0]].\n",
    "print v.\n",
    "\n",
    "'''\n",
    "interp(constr, tree_dump=False, symtab_dump=False, exceptions=False)"
   ]
  },
  {
   "cell_type": "code",
   "execution_count": null,
   "metadata": {},
   "outputs": [],
   "source": [
    "string_conc = \\\n",
    "'''\n",
    "-- show off our overloaded '+' operator\n",
    "load \"standard.ast\".\n",
    "\n",
    "print 1 + 1.\n",
    "\n",
    "let s1 = \"hello\".\n",
    "let s2 = \"world\".\n",
    "let s3 = s1 + \" \" + s2 +\"!\".\n",
    "print s3.\n",
    "\n",
    "let l1 = [1,2,3].\n",
    "let l2 = [4,5,6].\n",
    "let l3 = l1 + l2.\n",
    "print l3\n",
    "'''\n",
    "interp(string_conc, tree_dump=False, symtab_dump=False, exceptions=False)"
   ]
  },
  {
   "cell_type": "code",
   "execution_count": null,
   "metadata": {},
   "outputs": [],
   "source": [
    "array_rval = \\\n",
    "'''\n",
    "-- reverse the list\n",
    "let a = [1,2,3].\n",
    "let a = a@[2,1,0].\n",
    "print a.\n",
    "\n",
    "-- access multidim array\n",
    "let b = [[1,2,3],\n",
    "         [4,5,6],\n",
    "         [7,8,9]].\n",
    "let e = b@[1]@[1].\n",
    "print e.\n",
    "'''\n",
    "interp(array_rval, tree_dump=False, do_walk=True, symtab_dump=False, exceptions=False)"
   ]
  },
  {
   "cell_type": "code",
   "execution_count": null,
   "metadata": {},
   "outputs": [],
   "source": [
    "graphics = \\\n",
    "'''\n",
    "-- Asteroid graphics\n",
    "-- we can incorporate Python graphics into Asteroid via\n",
    "-- escaped Python code\n",
    "\n",
    "function circle with x, y, r do escape\n",
    "\"\n",
    "#########################################################\n",
    "vx = float(state.symbol_table.lookup_sym('x')[1])\n",
    "vy = float(state.symbol_table.lookup_sym('y')[1])\n",
    "vr = float(state.symbol_table.lookup_sym('r')[1])\n",
    "\n",
    "import matplotlib.pyplot as plt\n",
    "\n",
    "circle = plt.Circle((vx, vy), vr, color='blue')\n",
    "fig, ax = plt.subplots()\n",
    "ax.add_artist(circle)\n",
    "plt.show()\n",
    "#########################################################\n",
    "\"\n",
    "end function\n",
    "\n",
    "-- call the escaped function\n",
    "circle(.5, .5, .2)\n",
    "'''\n",
    "interp(graphics, exceptions=False, tree_dump=False, symtab_dump=False, do_walk=True)"
   ]
  },
  {
   "cell_type": "code",
   "execution_count": null,
   "metadata": {},
   "outputs": [],
   "source": [
    "attach = \\\n",
    "'''\n",
    "-- the 'add' function implements the behavior for \n",
    "-- the '+' operator for ints, reals, and strings.\n",
    "\n",
    "function add with a, b do return escape \n",
    "\"\n",
    "###################################################################\n",
    "# return register from 'escape' calls\n",
    "global __retval__ \n",
    "\n",
    "# 'promote' is the type promotion table for primitive\n",
    "# builtin types which implement the type hierarchy:\n",
    "#    integer < real < string\n",
    "type = promote(state.symbol_table.lookup_sym('a')[0], \n",
    "               state.symbol_table.lookup_sym('b')[0])\n",
    "\n",
    "# select the correct add according to type\n",
    "if type == 'integer':\n",
    "    __retval__ = ('integer', \n",
    "            int(state.symbol_table.lookup_sym('a')[1]) + \n",
    "            int(state.symbol_table.lookup_sym('b')[1]))\n",
    "\n",
    "elif type == 'real':\n",
    "    __retval__ = ('real', \n",
    "            float(state.symbol_table.lookup_sym('a')[1]) + \n",
    "            float(state.symbol_table.lookup_sym('b')[1]))\n",
    "\n",
    "elif type == 'string':\n",
    "    __retval__ = ('string', \n",
    "            str(state.symbol_table.lookup_sym('a')[1])+\n",
    "            str(state.symbol_table.lookup_sym('b')[1]))\n",
    "\n",
    "else:\n",
    "    raise ValueError('unsupported type in add')\n",
    "###################################################################\n",
    "\"     \n",
    "end function\n",
    "\n",
    "-- attach the behavior to the '+' constructor\n",
    "attach add to __plus__.\n",
    "\n",
    "-- test the '+' operator with different data types\n",
    "let x = 1.2 + 2 .\n",
    "print x.\n",
    "print \"the output is: \" + x.\n",
    "-- print [1,2] + 3.\n",
    "'''\n",
    "interp(attach, tree_dump=False, symtab_dump=False, exceptions=False)"
   ]
  },
  {
   "cell_type": "code",
   "execution_count": null,
   "metadata": {},
   "outputs": [],
   "source": [
    "interp(\"let x = 1 + 2. print x.\")"
   ]
  },
  {
   "cell_type": "code",
   "execution_count": null,
   "metadata": {},
   "outputs": [],
   "source": [
    "interp(\"let x = 1.3 . print x.\")"
   ]
  },
  {
   "cell_type": "code",
   "execution_count": null,
   "metadata": {},
   "outputs": [],
   "source": [
    "interp(\"let 1,y = 1,2. print 1,y.\")"
   ]
  },
  {
   "cell_type": "code",
   "execution_count": null,
   "metadata": {},
   "outputs": [],
   "source": [
    "interp(\"let x,2 = 1,2. print x,2.\")"
   ]
  },
  {
   "cell_type": "code",
   "execution_count": null,
   "metadata": {},
   "outputs": [],
   "source": [
    "interp(\"let s = 1,2. let x,y = s. print x,y.\")"
   ]
  },
  {
   "cell_type": "code",
   "execution_count": null,
   "metadata": {},
   "outputs": [],
   "source": [
    "interp(\"function ident with n do return n end function print ident(2).\")"
   ]
  },
  {
   "cell_type": "code",
   "execution_count": null,
   "metadata": {},
   "outputs": [],
   "source": [
    "interp(\"let x = 1. function ident with n do return n end function print (ident( ident (x))) .\", exceptions=True)"
   ]
  },
  {
   "cell_type": "code",
   "execution_count": null,
   "metadata": {},
   "outputs": [],
   "source": [
    "interp(\"let _, x = [1], 2.\", symtab_dump=True)"
   ]
  },
  {
   "cell_type": "code",
   "execution_count": null,
   "metadata": {},
   "outputs": [],
   "source": [
    "lambda1 = \\\n",
    "'''\n",
    "load \"standard.ast\"\n",
    "print (lambda with n do return n+1) 1\n",
    "'''\n",
    "interp(lambda1, tree_dump=False, symtab_dump=False)"
   ]
  },
  {
   "cell_type": "code",
   "execution_count": null,
   "metadata": {
    "collapsed": true
   },
   "outputs": [],
   "source": []
  }
 ],
 "metadata": {
  "kernelspec": {
   "display_name": "Python 3",
   "language": "python",
   "name": "python3"
  },
  "language_info": {
   "codemirror_mode": {
    "name": "ipython",
    "version": 3
   },
   "file_extension": ".py",
   "mimetype": "text/x-python",
   "name": "python",
   "nbconvert_exporter": "python",
   "pygments_lexer": "ipython3",
   "version": "3.6.1"
  }
 },
 "nbformat": 4,
 "nbformat_minor": 2
}
