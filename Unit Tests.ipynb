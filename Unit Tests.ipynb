{
 "cells": [
  {
   "cell_type": "markdown",
   "metadata": {},
   "source": [
    "# Unit Tests\n",
    "\n",
    "The following is a random collection of Asteroid programs each testing a particular aspect of Asteroid.  All the programs in this notebook should execute.  "
   ]
  },
  {
   "cell_type": "code",
   "execution_count": 1,
   "metadata": {},
   "outputs": [],
   "source": [
    "from asteroid_interp import interp"
   ]
  },
  {
   "cell_type": "code",
   "execution_count": 4,
   "metadata": {},
   "outputs": [
    {
     "name": "stdout",
     "output_type": "stream",
     "text": [
      "Please enter an integer value:  5\n",
      "1 \n",
      "2 \n",
      "3 \n",
      "4 \n",
      "5 \n"
     ]
    }
   ],
   "source": [
    "program =\\\n",
    "'''\n",
    "load \"util.ast\".\n",
    "load \"io.ast\".\n",
    "\n",
    "let cnt = integer(input(\"Please enter an integer value: \")).\n",
    "\n",
    "for i in 1 to cnt do\n",
    "    print i.\n",
    "end for\n",
    "'''\n",
    "\n",
    "interp(program)"
   ]
  },
  {
   "cell_type": "code",
   "execution_count": null,
   "metadata": {},
   "outputs": [],
   "source": [
    "program =\\\n",
    "'''\n",
    "load \"standard.ast\".\n",
    "load \"io.ast\".\n",
    "\n",
    "let name = input(\"Please enter your name: \").\n",
    "print(\"Hello\" + name + \"!\").\n",
    "'''\n",
    "\n",
    "interp(program)"
   ]
  },
  {
   "cell_type": "code",
   "execution_count": null,
   "metadata": {},
   "outputs": [],
   "source": [
    "program = \\\n",
    "'''\n",
    "load \"util.ast\".\n",
    "load \"io.ast\".\n",
    "\n",
    "constructor S with arity 1.\n",
    "\n",
    "let x = 'S(S(0)).\n",
    "let y = 'S(S(x)).\n",
    "let z = y.\n",
    "\n",
    "print y.\n",
    "print z.\n",
    "print (eval (z)).\n",
    "'''\n",
    "interp(program, tree_dump=False, symtab_dump=False, do_walk=True, exceptions=True)"
   ]
  },
  {
   "cell_type": "code",
   "execution_count": null,
   "metadata": {},
   "outputs": [],
   "source": [
    "program = \\\n",
    "'''\n",
    "constructor S with arity 1.\n",
    "\n",
    "let y = S S  S S 0.\n",
    "\n",
    "'''\n",
    "interp(program, tree_dump=True, symtab_dump=True, do_walk=True, exceptions=True)"
   ]
  },
  {
   "cell_type": "code",
   "execution_count": null,
   "metadata": {},
   "outputs": [],
   "source": [
    "program = \\\n",
    "'''\n",
    "function ident \n",
    "    with n do \n",
    "        return n \n",
    "    end function \n",
    "\n",
    "let y = ident ident  0.\n",
    "\n",
    "'''\n",
    "interp(program, tree_dump=True, symtab_dump=True, do_walk=True, exceptions=True)"
   ]
  },
  {
   "cell_type": "code",
   "execution_count": null,
   "metadata": {},
   "outputs": [],
   "source": [
    "program = \\\n",
    "'''\n",
    "function ident \n",
    "    with n do \n",
    "        return n \n",
    "    end function \n",
    "\n",
    "let y = ident(ident (0)).\n",
    "let x = ident ident 0.\n",
    "\n",
    "'''\n",
    "interp(program, tree_dump=True, symtab_dump=True, do_walk=True, exceptions=True)"
   ]
  },
  {
   "cell_type": "code",
   "execution_count": null,
   "metadata": {},
   "outputs": [],
   "source": [
    "program = \\\n",
    "'''\n",
    "-- Factorial\n",
    "\n",
    "load \"standard.ast\".\n",
    "load \"io.ast\".\n",
    "\n",
    "function fact \n",
    "    with 0 do\n",
    "        return 1\n",
    "    orwith n do\n",
    "        return n * fact (n-1).\n",
    "    end function\n",
    "\n",
    "print (\"The factorial of 3 is: \" + fact (3)).\n",
    "'''\n",
    "\n",
    "interp(program, exceptions=False, symtab_dump=False)"
   ]
  },
  {
   "cell_type": "code",
   "execution_count": null,
   "metadata": {},
   "outputs": [],
   "source": [
    "program = \\\n",
    "'''\n",
    "-- show that the value constructed by head-tail is a list\n",
    "let [1,2,3] = 1 | [2,3].\n",
    "\n",
    "-- show that a list can be decomposed with head-tail\n",
    "let 1 | [2,3] = [1,2,3].\n",
    "\n",
    "-- show that we can nest head-tail operators\n",
    "let [1,2,3] = 1 | 2 | 3 | [].\n",
    "\n",
    "'''\n",
    "interp(program, tree_dump=True, symtab_dump=False, do_walk=True, exceptions=False)"
   ]
  },
  {
   "cell_type": "code",
   "execution_count": null,
   "metadata": {},
   "outputs": [],
   "source": [
    "program = \\\n",
    "'''\n",
    "load \"standard.ast\".\n",
    "load \"util.ast\".\n",
    "load \"io.ast\".\n",
    "\n",
    "try\n",
    "\n",
    "    throw Error \"--- error ---\".\n",
    "    \n",
    "catch Error(msg) do\n",
    "    print msg.\n",
    "\n",
    "end try\n",
    "\n",
    "'''\n",
    "interp(program, tree_dump=False, symtab_dump=False, do_walk=True, exceptions=False)"
   ]
  },
  {
   "cell_type": "code",
   "execution_count": null,
   "metadata": {},
   "outputs": [],
   "source": [
    "program = \\\n",
    "'''\n",
    "load \"standard.ast\".\n",
    "load \"io.ast\".\n",
    "\n",
    "let h|t = [1,2,3].\n",
    "print (\"head: \" + h + \" tail: \" + t).\n",
    "'''\n",
    "interp(program, tree_dump=False, symtab_dump=False, do_walk=True, exceptions=False)"
   ]
  },
  {
   "cell_type": "code",
   "execution_count": null,
   "metadata": {},
   "outputs": [],
   "source": [
    "program = \\\n",
    "'''\n",
    "load \"standard.ast\".\n",
    "load \"io.ast\".\n",
    "\n",
    "let y = -1.\n",
    "let x = 4 if y == 3 else 0.\n",
    "print x.\n",
    "\n",
    "'''\n",
    "interp(program, tree_dump=False, symtab_dump=False, do_walk=True, exceptions=False)"
   ]
  },
  {
   "cell_type": "code",
   "execution_count": null,
   "metadata": {},
   "outputs": [],
   "source": [
    "program = \\\n",
    "'''\n",
    "load \"io.ast\".\n",
    "\n",
    "let y = none.\n",
    "let x = y otherwise 1.\n",
    "print x.\n",
    "\n",
    "'''\n",
    "interp(program, tree_dump=False, symtab_dump=False, do_walk=True, exceptions=False)"
   ]
  },
  {
   "cell_type": "code",
   "execution_count": null,
   "metadata": {},
   "outputs": [],
   "source": [
    "program = \\\n",
    "'''\n",
    "load \"standard.ast\".\n",
    "load \"io.ast\".\n",
    "\n",
    "for x in 0 to 10 do\n",
    "    print x.\n",
    "    if x == 5 do\n",
    "        break.\n",
    "    end if\n",
    "end for\n",
    "'''\n",
    "interp(program, tree_dump=False, do_walk=True, exceptions=False)"
   ]
  },
  {
   "cell_type": "code",
   "execution_count": null,
   "metadata": {},
   "outputs": [],
   "source": [
    "program = \\\n",
    "'''\n",
    "load \"io.ast\".\n",
    "\n",
    "with a=1, b=2 do\n",
    "    print(a,b).\n",
    "end with\n",
    "'''\n",
    "interp(program, tree_dump=False, do_walk=True, symtab_dump=False, exceptions=True)"
   ]
  },
  {
   "cell_type": "code",
   "execution_count": null,
   "metadata": {},
   "outputs": [],
   "source": [
    "program = \\\n",
    "'''\n",
    "load \"io.ast\".\n",
    "\n",
    "for (x,y) in [(1,1), (2,2), (3,3)]  do\n",
    "    print (x,y).\n",
    "end for\n",
    "\n",
    "-- use unification as a filter\n",
    "for (2,y) in [(1,11), (1,12), (1,13), (2,21), (2,22), (2,23)]  do\n",
    "    print y.\n",
    "end for\n",
    "'''\n",
    "interp(program, tree_dump=False, do_walk=True, symtab_dump=False)"
   ]
  },
  {
   "cell_type": "code",
   "execution_count": null,
   "metadata": {},
   "outputs": [],
   "source": [
    "program = \\\n",
    "'''\n",
    "load \"io.ast\".\n",
    "\n",
    "for x in 1 to 10 do\n",
    "    print x.\n",
    "end for\n",
    "'''\n",
    "interp(program, tree_dump=False, do_walk=True, symtab_dump=False)"
   ]
  },
  {
   "cell_type": "code",
   "execution_count": null,
   "metadata": {},
   "outputs": [],
   "source": [
    "program = \\\n",
    "'''\n",
    "load \"standard.ast\".\n",
    "load \"io.ast\".\n",
    "\n",
    "let x = 42.\n",
    "\n",
    "if x < 0 do\n",
    "    let x = 0.\n",
    "    print(\"Negative changed to zero\").\n",
    "\n",
    "elif x == 0 do\n",
    "    print(\"Zero\").\n",
    "\n",
    "elif x == 1 do\n",
    "    print(\"Single\").\n",
    "\n",
    "else do\n",
    "    print(\"More\").\n",
    "    \n",
    "end if\n",
    "\n",
    "'''\n",
    "interp(program, tree_dump=False, do_walk=True, exceptions=False)"
   ]
  },
  {
   "cell_type": "code",
   "execution_count": null,
   "metadata": {},
   "outputs": [],
   "source": [
    "program = \\\n",
    "'''\n",
    "load \"standard.ast\".\n",
    "load \"io.ast\".\n",
    "\n",
    "let x = 1.\n",
    "while x <= 10 do\n",
    "    print x.\n",
    "    let x = x + 1.\n",
    "end while\n",
    "'''\n",
    "interp(program, exceptions=True)"
   ]
  },
  {
   "cell_type": "code",
   "execution_count": null,
   "metadata": {},
   "outputs": [],
   "source": [
    "program = \\\n",
    "'''\n",
    "let 1 = 1.\n",
    "'''\n",
    "interp(program, exceptions=True, tree_dump=True)"
   ]
  },
  {
   "cell_type": "code",
   "execution_count": null,
   "metadata": {},
   "outputs": [],
   "source": [
    "program = \\\n",
    "'''\n",
    "load \"standard.ast\".\n",
    "\n",
    "'''\n",
    "interp(program, tree_dump=False, symtab_dump=False)"
   ]
  },
  {
   "cell_type": "code",
   "execution_count": null,
   "metadata": {},
   "outputs": [],
   "source": [
    "program = \\\n",
    "'''\n",
    "load \"io.ast\".\n",
    "\n",
    "constructor A with arity 2.\n",
    "\n",
    "let a = A(\"Hello\", (lambda with self do return self@[0])).\n",
    "print (a@[1] a).\n",
    "'''\n",
    "interp(program, tree_dump=False, symtab_dump=False, exceptions=False)"
   ]
  },
  {
   "cell_type": "code",
   "execution_count": null,
   "metadata": {},
   "outputs": [],
   "source": [
    "program = \\\n",
    "'''\n",
    "load \"io.ast\".\n",
    "\n",
    "constructor A with arity 2.\n",
    "\n",
    "let a = A(\"Hello\", (lambda with self do print self@[0])).\n",
    "a@[1] a.\n",
    "'''\n",
    "interp(program, tree_dump=False, symtab_dump=False, exceptions=False)"
   ]
  },
  {
   "cell_type": "code",
   "execution_count": null,
   "metadata": {},
   "outputs": [],
   "source": [
    "program = \\\n",
    "'''\n",
    "load \"io.ast\".\n",
    "\n",
    "print (1,2,3).\n",
    "'''\n",
    "interp(program)"
   ]
  },
  {
   "cell_type": "code",
   "execution_count": null,
   "metadata": {},
   "outputs": [],
   "source": [
    "program = \\\n",
    "'''\n",
    "let nl = [[1 to 10],].\n",
    "'''\n",
    "interp(program, tree_dump=True, symtab_dump=True)"
   ]
  },
  {
   "cell_type": "code",
   "execution_count": null,
   "metadata": {},
   "outputs": [],
   "source": [
    "program = \\\n",
    "'''\n",
    "-- let l = [2*i where i in [1 to 100]].\n",
    "'''\n",
    "interp(program, symtab_dump=True, tree_dump=True, exceptions=False)"
   ]
  },
  {
   "cell_type": "code",
   "execution_count": null,
   "metadata": {},
   "outputs": [],
   "source": [
    "program = \\\n",
    "'''\n",
    "let [0 to 10] = '[0 to 10].\n",
    "\n",
    "let '[0 to 10] = '[0 to 10].\n",
    "\n",
    "'''\n",
    "interp(program, symtab_dump=False, tree_dump=False, exceptions=True)"
   ]
  },
  {
   "cell_type": "code",
   "execution_count": null,
   "metadata": {},
   "outputs": [],
   "source": [
    "program = \\\n",
    "'''\n",
    "constructor A with arity 3.\n",
    "\n",
    "let a = A(1,2,3).\n",
    "let b = a@[0 to 2].\n",
    "'''\n",
    "interp(program, symtab_dump=True, tree_dump=True, exceptions=True)"
   ]
  },
  {
   "cell_type": "code",
   "execution_count": null,
   "metadata": {},
   "outputs": [],
   "source": [
    "program = \\\n",
    "'''\n",
    "let a = [0,1,2,3].\n",
    "let b = a@[0 to 3 step 2].\n",
    "'''\n",
    "interp(program, symtab_dump=True, tree_dump=True, exceptions=True)"
   ]
  },
  {
   "cell_type": "code",
   "execution_count": null,
   "metadata": {},
   "outputs": [],
   "source": [
    "program = \\\n",
    "'''\n",
    "let x = 1.\n",
    "let y = [0 to 10 step 2].\n",
    "let z = 4 in y.\n",
    "'''\n",
    "interp(program, symtab_dump=True, tree_dump=True)"
   ]
  },
  {
   "cell_type": "code",
   "execution_count": null,
   "metadata": {},
   "outputs": [],
   "source": [
    "in_test = \\\n",
    "'''\n",
    "let y = 3 in [1,2,3].\n",
    "'''\n",
    "interp(in_test, symtab_dump=True)"
   ]
  },
  {
   "cell_type": "code",
   "execution_count": null,
   "metadata": {},
   "outputs": [],
   "source": [
    "is_test = \\\n",
    "'''\n",
    "let y = (1,2) is (1,x).\n",
    "let z = (1,3) is (1,x).\n",
    "\n",
    "'''\n",
    "interp(is_test, symtab_dump=True)"
   ]
  },
  {
   "cell_type": "code",
   "execution_count": null,
   "metadata": {},
   "outputs": [],
   "source": [
    "constr_dict_store =\\\n",
    "'''\n",
    "constructor A with arity 2.\n",
    "\n",
    "let foo = A((\"a\",1),(\"b\",2)).\n",
    "let foo@{\"a\"} = 2.\n",
    "\n",
    "'''\n",
    "interp(constr_dict_store, tree_dump=True, exceptions=True, symtab_dump=True)"
   ]
  },
  {
   "cell_type": "code",
   "execution_count": null,
   "metadata": {},
   "outputs": [],
   "source": [
    "store_dict = \\\n",
    "'''\n",
    "let d = [(\"a\", 100)].\n",
    "let d@{\"foo\"} = 1.\n",
    "let d@{\"goo\"} = 2.\n",
    "\n",
    "let d@{\"foo\"} = 2.\n",
    "\n",
    "'''\n",
    "interp(store_dict, tree_dump=True, symtab_dump=True, exceptions=False)"
   ]
  },
  {
   "cell_type": "code",
   "execution_count": null,
   "metadata": {},
   "outputs": [],
   "source": [
    "store_list = \\\n",
    "'''\n",
    "load \"io.ast\".\n",
    "\n",
    "let b = [[1,2,3],\n",
    "         [4,5,6],\n",
    "         [7,8,9]].\n",
    "let b@[1]@[1] = 0.\n",
    "print b.\n",
    "'''\n",
    "interp(store_list, tree_dump=True, exceptions=True)"
   ]
  },
  {
   "cell_type": "code",
   "execution_count": null,
   "metadata": {
    "scrolled": false
   },
   "outputs": [],
   "source": [
    "constr_dict =\\\n",
    "'''\n",
    "load \"io.ast\".\n",
    "\n",
    "constructor A with arity 2.\n",
    "\n",
    "let foo = A((\"a\",1),(\"b\",2)).\n",
    "print (foo@{\"a\"}).\n",
    "\n",
    "let goo = A([(1,1),(2,2)]).\n",
    "print (goo@{1}).\n",
    "\n",
    "\n",
    "'''\n",
    "interp(constr_dict, tree_dump=True, exceptions=True)"
   ]
  },
  {
   "cell_type": "code",
   "execution_count": null,
   "metadata": {},
   "outputs": [],
   "source": [
    "dict = \\\n",
    "'''\n",
    "load \"io.ast\".\n",
    "\n",
    "let d = [(\"a\", 1)].\n",
    "\n",
    "print (d@{\"a\"}).\n",
    "'''\n",
    "interp(dict, tree_dump=True)"
   ]
  },
  {
   "cell_type": "code",
   "execution_count": null,
   "metadata": {},
   "outputs": [],
   "source": [
    "list_equiv = \\\n",
    "'''\n",
    "-- some list equivalencies\n",
    "\n",
    "let [0] = 0, .\n",
    "let [0,1,2] = 0,1,2.\n",
    "let [[0,1,2]] = ((0,1,2),).\n",
    "let (0,1,2),(3,4,5) = ((0,1,2),(3,4,5)).\n",
    "'''\n",
    "interp(list_equiv, tree_dump=True)"
   ]
  },
  {
   "cell_type": "code",
   "execution_count": null,
   "metadata": {},
   "outputs": [],
   "source": [
    "unary_ops = \\\n",
    "'''\n",
    "let x = -1.\n",
    "let y = not true.\n",
    "'''\n",
    "interp(unary_ops, tree_dump=True, symtab_dump=True)"
   ]
  },
  {
   "cell_type": "code",
   "execution_count": null,
   "metadata": {},
   "outputs": [],
   "source": [
    "apply = \\\n",
    "'''\n",
    "-- infix operators are just a shorthand for prefix terms \n",
    "-- using special names for the operators\n",
    "\n",
    "--load \"standard.ast\".\n",
    "\n",
    "let x = __plus__ (1,1).\n",
    "let y = 1 + 1.\n",
    "\n",
    "let 1 + 1 = '__plus__ (1,1).\n",
    "'''\n",
    "interp(apply, tree_dump=True, symtab_dump=True)"
   ]
  },
  {
   "cell_type": "code",
   "execution_count": null,
   "metadata": {},
   "outputs": [],
   "source": [
    "constr_lval = \\\n",
    "'''\n",
    "constructor A with arity 1.\n",
    "let A(0,) = A[0].  -- BUT A(0) != A[0] --> needs to be straightened out...\n",
    "let a = A[0].\n",
    "let a@0 = 1.\n",
    "'''\n",
    "interp(constr_lval, tree_dump=True, symtab_dump=True, exceptions=False)"
   ]
  },
  {
   "cell_type": "code",
   "execution_count": null,
   "metadata": {},
   "outputs": [],
   "source": [
    "constr_lval2 = \\\n",
    "'''\n",
    "constructor A with arity 3.\n",
    "let a = A[1,2,3].\n",
    "let a@[1] = 0.\n",
    "'''\n",
    "interp(constr_lval2, tree_dump=True, symtab_dump=True, exceptions=False)"
   ]
  },
  {
   "cell_type": "code",
   "execution_count": null,
   "metadata": {},
   "outputs": [],
   "source": [
    "array_lval = \\\n",
    "'''\n",
    "load \"io.ast\".\n",
    "\n",
    "let a = [1,2,3].\n",
    "let a@[2],a@[1],a@[0] = a.\n",
    "print a\n",
    "'''\n",
    "interp(array_lval, tree_dump=False, symtab_dump=False, do_walk=True, exceptions=False)"
   ]
  },
  {
   "cell_type": "code",
   "execution_count": null,
   "metadata": {},
   "outputs": [],
   "source": [
    "struct = \\\n",
    "'''\n",
    "constructor A with arity 1.\n",
    "constructor B with arity 2.\n",
    "\n",
    "let x = A(1).\n",
    "let y = B(1,2).\n",
    "\n",
    "let A(z) = x.\n",
    "let B(v,w) = y.\n",
    "\n",
    "let xx = x@0.\n",
    "let yy = y@[0,1].\n",
    "\n",
    "'''\n",
    "interp(struct, tree_dump=False, symtab_dump=True, exceptions=True)"
   ]
  },
  {
   "cell_type": "code",
   "execution_count": null,
   "metadata": {},
   "outputs": [],
   "source": [
    "arr = \\\n",
    "'''\n",
    "load \"io.ast\".\n",
    "\n",
    "let v = 'a@[3].\n",
    "print v.\n",
    "'''\n",
    "interp(arr)"
   ]
  },
  {
   "cell_type": "code",
   "execution_count": null,
   "metadata": {},
   "outputs": [],
   "source": [
    "func = \\\n",
    "'''\n",
    "load \"standard.ast\".\n",
    "load \"io.ast\".\n",
    "\n",
    "function inc with n do return n+1 end function\n",
    "\n",
    "let v = inc(inc(0)).\n",
    "let q = 1 + 1 + 1.\n",
    "print (v, q).\n",
    "'''\n",
    "interp(func, tree_dump=False, symtab_dump=False)"
   ]
  },
  {
   "cell_type": "code",
   "execution_count": null,
   "metadata": {},
   "outputs": [],
   "source": [
    "constr = \\\n",
    "'''\n",
    "-- constructors and pattern matching\n",
    "\n",
    "-- load \"standard.ast\".\n",
    "load \"io.ast\".\n",
    "\n",
    "constructor S with arity 1.\n",
    "attach (lambda with n do return 1+n) to S.\n",
    "\n",
    "let v = 'S(S(0)).\n",
    "print v.\n",
    "\n",
    "let v = S(S(0)).\n",
    "print v.\n",
    "\n",
    "let S (S (v))  = 'S(S(0)).\n",
    "print v.\n",
    "\n",
    "let S (S (0))  = 'S(S(0)).\n",
    "\n",
    "\n",
    "let [[v]] = [[0]].\n",
    "print v.\n",
    "\n",
    "'''\n",
    "interp(constr, tree_dump=False, symtab_dump=False, exceptions=False)"
   ]
  },
  {
   "cell_type": "code",
   "execution_count": null,
   "metadata": {},
   "outputs": [],
   "source": [
    "string_conc = \\\n",
    "'''\n",
    "-- show off our overloaded '+' operator\n",
    "load \"standard.ast\".\n",
    "load \"io.ast\".\n",
    "\n",
    "print (1 + 1).\n",
    "\n",
    "let s1 = \"hello\".\n",
    "let s2 = \"world\".\n",
    "let s3 = s1 + \" \" + s2 +\"!\".\n",
    "print s3.\n",
    "\n",
    "let l1 = [1,2,3].\n",
    "let l2 = [4,5,6].\n",
    "let l3 = l1 + l2.\n",
    "print l3\n",
    "'''\n",
    "interp(string_conc, tree_dump=False, symtab_dump=False, exceptions=False)"
   ]
  },
  {
   "cell_type": "code",
   "execution_count": null,
   "metadata": {},
   "outputs": [],
   "source": [
    "array_rval = \\\n",
    "'''\n",
    "load \"io.ast\".\n",
    "\n",
    "-- reverse the list\n",
    "let a = [1,2,3].\n",
    "let a = a@[2,1,0].\n",
    "print a.\n",
    "\n",
    "-- access multidim array\n",
    "let b = [[1,2,3],\n",
    "         [4,5,6],\n",
    "         [7,8,9]].\n",
    "let e = b@[1]@[1].\n",
    "print e.\n",
    "'''\n",
    "interp(array_rval, tree_dump=False, do_walk=True, symtab_dump=False, exceptions=False)"
   ]
  },
  {
   "cell_type": "code",
   "execution_count": null,
   "metadata": {},
   "outputs": [],
   "source": [
    "graphics = \\\n",
    "'''\n",
    "-- Asteroid graphics\n",
    "-- we can incorporate Python graphics into Asteroid via\n",
    "-- escaped Python code\n",
    "\n",
    "function circle with x, y, r do escape\n",
    "\"\n",
    "#########################################################\n",
    "vx = float(state.symbol_table.lookup_sym('x')[1])\n",
    "vy = float(state.symbol_table.lookup_sym('y')[1])\n",
    "vr = float(state.symbol_table.lookup_sym('r')[1])\n",
    "\n",
    "import matplotlib.pyplot as plt\n",
    "\n",
    "circle = plt.Circle((vx, vy), vr, color='blue')\n",
    "fig, ax = plt.subplots()\n",
    "ax.add_artist(circle)\n",
    "plt.show()\n",
    "#########################################################\n",
    "\"\n",
    "end function\n",
    "\n",
    "-- call the escaped function\n",
    "circle(.5, .5, .2)\n",
    "'''\n",
    "interp(graphics, exceptions=False, tree_dump=False, symtab_dump=False, do_walk=True)"
   ]
  },
  {
   "cell_type": "code",
   "execution_count": null,
   "metadata": {},
   "outputs": [],
   "source": [
    "attach = \\\n",
    "'''\n",
    "-- the 'add' function implements the behavior for \n",
    "-- the '+' operator for ints, reals, and strings.\n",
    "\n",
    "load \"io.ast\".\n",
    "\n",
    "function add with a, b do return escape \n",
    "\"\n",
    "###################################################################\n",
    "# return register from 'escape' calls\n",
    "global __retval__ \n",
    "from asteroid_support import promote\n",
    "\n",
    "# 'promote' is the type promotion table for primitive\n",
    "# builtin types which implement the type hierarchy:\n",
    "#    integer < real < string\n",
    "type = promote(state.symbol_table.lookup_sym('a')[0], \n",
    "               state.symbol_table.lookup_sym('b')[0])\n",
    "\n",
    "# select the correct add according to type\n",
    "if type == 'integer':\n",
    "    __retval__ = ('integer', \n",
    "            int(state.symbol_table.lookup_sym('a')[1]) + \n",
    "            int(state.symbol_table.lookup_sym('b')[1]))\n",
    "\n",
    "elif type == 'real':\n",
    "    __retval__ = ('real', \n",
    "            float(state.symbol_table.lookup_sym('a')[1]) + \n",
    "            float(state.symbol_table.lookup_sym('b')[1]))\n",
    "\n",
    "elif type == 'string':\n",
    "    __retval__ = ('string', \n",
    "            str(state.symbol_table.lookup_sym('a')[1])+\n",
    "            str(state.symbol_table.lookup_sym('b')[1]))\n",
    "\n",
    "else:\n",
    "    raise ValueError('unsupported type in add')\n",
    "###################################################################\n",
    "\"     \n",
    "end function\n",
    "\n",
    "-- attach the behavior to the '+' constructor\n",
    "attach add to __plus__.\n",
    "\n",
    "-- test the '+' operator with different data types\n",
    "let x = 1.2 + 2 .\n",
    "print x.\n",
    "print (\"the output is: \" + x).\n",
    "-- print [1,2] + 3.\n",
    "'''\n",
    "interp(attach, tree_dump=False, symtab_dump=False, exceptions=False)"
   ]
  },
  {
   "cell_type": "code",
   "execution_count": null,
   "metadata": {},
   "outputs": [],
   "source": [
    "interp('load \"io.ast\".let x = 1 + 2. print x.')"
   ]
  },
  {
   "cell_type": "code",
   "execution_count": null,
   "metadata": {},
   "outputs": [],
   "source": [
    "interp('load \"io.ast\".let x = 1.3 . print x.')"
   ]
  },
  {
   "cell_type": "code",
   "execution_count": null,
   "metadata": {},
   "outputs": [],
   "source": [
    "interp('load \"io.ast\".let 1,y = 1,2. print (1,y).')"
   ]
  },
  {
   "cell_type": "code",
   "execution_count": null,
   "metadata": {},
   "outputs": [],
   "source": [
    "interp('load \"io.ast\".let x,2 = 1,2. print (x,2).')"
   ]
  },
  {
   "cell_type": "code",
   "execution_count": null,
   "metadata": {},
   "outputs": [],
   "source": [
    "interp('load \"io.ast\".let s = 1,2. let x,y = s. print (x,y).')"
   ]
  },
  {
   "cell_type": "code",
   "execution_count": null,
   "metadata": {},
   "outputs": [],
   "source": [
    "interp('load \"io.ast\".function ident with n do return n end function print (ident(2)).')"
   ]
  },
  {
   "cell_type": "code",
   "execution_count": null,
   "metadata": {},
   "outputs": [],
   "source": [
    "interp('load \"io.ast\".let x = 1. function ident with n do return n end function print (ident( ident (x))) .', exceptions=True)"
   ]
  },
  {
   "cell_type": "code",
   "execution_count": null,
   "metadata": {},
   "outputs": [],
   "source": [
    "interp(\"let _, x = [1], 2.\", symtab_dump=True)"
   ]
  },
  {
   "cell_type": "code",
   "execution_count": null,
   "metadata": {},
   "outputs": [],
   "source": [
    "lambda1 = \\\n",
    "'''\n",
    "load \"standard.ast\"\n",
    "load \"io.ast\".\n",
    "\n",
    "print ((lambda with n do return n+1) 1).\n",
    "'''\n",
    "interp(lambda1, tree_dump=False, symtab_dump=False)"
   ]
  },
  {
   "cell_type": "code",
   "execution_count": null,
   "metadata": {
    "collapsed": true
   },
   "outputs": [],
   "source": []
  }
 ],
 "metadata": {
  "kernelspec": {
   "display_name": "Python 3",
   "language": "python",
   "name": "python3"
  },
  "language_info": {
   "codemirror_mode": {
    "name": "ipython",
    "version": 3
   },
   "file_extension": ".py",
   "mimetype": "text/x-python",
   "name": "python",
   "nbconvert_exporter": "python",
   "pygments_lexer": "ipython3",
   "version": "3.6.1"
  }
 },
 "nbformat": 4,
 "nbformat_minor": 2
}
