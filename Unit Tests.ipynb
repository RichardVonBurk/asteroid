{
 "cells": [
  {
   "cell_type": "code",
   "execution_count": 1,
   "metadata": {},
   "outputs": [],
   "source": [
    "from asteroid_interp import interp"
   ]
  },
  {
   "cell_type": "code",
   "execution_count": 2,
   "metadata": {},
   "outputs": [
    {
     "name": "stdout",
     "output_type": "stream",
     "text": [
      "\n",
      "(seq \n",
      "  |(unify \n",
      "  |  |(id nl) \n",
      "  |  |(list \n",
      "  |  |  |[ \n",
      "  |  |  |  |(to-list \n",
      "  |  |  |  |  |(start \n",
      "  |  |  |  |  |  |(integer 1)) \n",
      "  |  |  |  |  |(stop \n",
      "  |  |  |  |  |  |(integer 10)) \n",
      "  |  |  |  |  |(step \n",
      "  |  |  |  |  |  |(integer 1)))])) \n",
      "  |(nil))\n"
     ]
    }
   ],
   "source": [
    "nested_lists = \\\n",
    "'''\n",
    "let nl = [[1 to 10],].\n",
    "'''\n",
    "interp(nested_lists, tree_dump=True)"
   ]
  },
  {
   "cell_type": "code",
   "execution_count": 4,
   "metadata": {},
   "outputs": [
    {
     "name": "stdout",
     "output_type": "stream",
     "text": [
      "\n",
      "(seq \n",
      "  |(unify \n",
      "  |  |(id l) \n",
      "  |  |(where-list \n",
      "  |  |  |(comp-exp \n",
      "  |  |  |  |(apply \n",
      "  |  |  |  |  |(id __times__) \n",
      "  |  |  |  |  |(apply \n",
      "  |  |  |  |  |  |(list \n",
      "  |  |  |  |  |  |  |[ \n",
      "  |  |  |  |  |  |  |  |(integer 2) \n",
      "  |  |  |  |  |  |  |  |(id i)]) \n",
      "  |  |  |  |  |  |(nil)))) \n",
      "  |  |  |(in-exp \n",
      "  |  |  |  |(in \n",
      "  |  |  |  |  |(id i) \n",
      "  |  |  |  |  |(to-list \n",
      "  |  |  |  |  |  |(start \n",
      "  |  |  |  |  |  |  |(integer 1)) \n",
      "  |  |  |  |  |  |(stop \n",
      "  |  |  |  |  |  |  |(integer 100)) \n",
      "  |  |  |  |  |  |(step \n",
      "  |  |  |  |  |  |  |(integer 1))))))) \n",
      "  |(nil))\n"
     ]
    },
    {
     "ename": "ValueError",
     "evalue": "walk: unknown tree node type: where-list",
     "output_type": "error",
     "traceback": [
      "\u001b[0;31m---------------------------------------------------------------------------\u001b[0m",
      "\u001b[0;31mValueError\u001b[0m                                Traceback (most recent call last)",
      "\u001b[0;32m<ipython-input-4-4eaccd758ae0>\u001b[0m in \u001b[0;36m<module>\u001b[0;34m()\u001b[0m\n\u001b[1;32m      2\u001b[0m \u001b[0mlet\u001b[0m \u001b[0ml\u001b[0m \u001b[0;34m=\u001b[0m \u001b[0;34m[\u001b[0m\u001b[0;34m[\u001b[0m\u001b[0;34m(\u001b[0m\u001b[0;36m2\u001b[0m\u001b[0;34m*\u001b[0m\u001b[0mi\u001b[0m\u001b[0;34m)\u001b[0m \u001b[0mwhere\u001b[0m \u001b[0mi\u001b[0m \u001b[0;32min\u001b[0m \u001b[0;34m[\u001b[0m\u001b[0;36m1\u001b[0m \u001b[0mto\u001b[0m \u001b[0;36m100\u001b[0m\u001b[0;34m]\u001b[0m\u001b[0;34m]\u001b[0m\u001b[0;34m]\u001b[0m\u001b[0;34m.\u001b[0m\u001b[0;34m\u001b[0m\u001b[0m\n\u001b[1;32m      3\u001b[0m '''\n\u001b[0;32m----> 4\u001b[0;31m \u001b[0minterp\u001b[0m\u001b[0;34m(\u001b[0m\u001b[0mwhere_list\u001b[0m\u001b[0;34m,\u001b[0m \u001b[0msymtab_dump\u001b[0m\u001b[0;34m=\u001b[0m\u001b[0;32mTrue\u001b[0m\u001b[0;34m,\u001b[0m \u001b[0mtree_dump\u001b[0m\u001b[0;34m=\u001b[0m\u001b[0;32mTrue\u001b[0m\u001b[0;34m,\u001b[0m \u001b[0mexceptions\u001b[0m\u001b[0;34m=\u001b[0m\u001b[0;32mTrue\u001b[0m\u001b[0;34m)\u001b[0m\u001b[0;34m\u001b[0m\u001b[0m\n\u001b[0m",
      "\u001b[0;32m/Users/lutz/Dropbox/Projects/Asteroid PL/asteroid-git/asteroid_interp.py\u001b[0m in \u001b[0;36minterp\u001b[0;34m(input_stream, tree_dump, do_walk, symtab_dump, exceptions)\u001b[0m\n\u001b[1;32m     33\u001b[0m     \u001b[0;32mexcept\u001b[0m \u001b[0mException\u001b[0m \u001b[0;32mas\u001b[0m \u001b[0me\u001b[0m\u001b[0;34m:\u001b[0m\u001b[0;34m\u001b[0m\u001b[0m\n\u001b[1;32m     34\u001b[0m         \u001b[0;32mif\u001b[0m \u001b[0mexceptions\u001b[0m\u001b[0;34m:\u001b[0m \u001b[0;31m# rethrow the exception so that you can see the full backtrace\u001b[0m\u001b[0;34m\u001b[0m\u001b[0m\n\u001b[0;32m---> 35\u001b[0;31m             \u001b[0;32mraise\u001b[0m \u001b[0me\u001b[0m\u001b[0;34m\u001b[0m\u001b[0m\n\u001b[0m\u001b[1;32m     36\u001b[0m         \u001b[0;32melse\u001b[0m\u001b[0;34m:\u001b[0m\u001b[0;34m\u001b[0m\u001b[0m\n\u001b[1;32m     37\u001b[0m             \u001b[0mprint\u001b[0m\u001b[0;34m(\u001b[0m\u001b[0;34m\"Error: {}\"\u001b[0m\u001b[0;34m.\u001b[0m\u001b[0mformat\u001b[0m\u001b[0;34m(\u001b[0m\u001b[0me\u001b[0m\u001b[0;34m)\u001b[0m\u001b[0;34m)\u001b[0m\u001b[0;34m\u001b[0m\u001b[0m\n",
      "\u001b[0;32m/Users/lutz/Dropbox/Projects/Asteroid PL/asteroid-git/asteroid_interp.py\u001b[0m in \u001b[0;36minterp\u001b[0;34m(input_stream, tree_dump, do_walk, symtab_dump, exceptions)\u001b[0m\n\u001b[1;32m     28\u001b[0m             \u001b[0mdump_AST\u001b[0m\u001b[0;34m(\u001b[0m\u001b[0mstate\u001b[0m\u001b[0;34m.\u001b[0m\u001b[0mAST\u001b[0m\u001b[0;34m)\u001b[0m\u001b[0;34m\u001b[0m\u001b[0m\n\u001b[1;32m     29\u001b[0m         \u001b[0;32mif\u001b[0m \u001b[0mdo_walk\u001b[0m\u001b[0;34m:\u001b[0m\u001b[0;34m\u001b[0m\u001b[0m\n\u001b[0;32m---> 30\u001b[0;31m             \u001b[0mwalk\u001b[0m\u001b[0;34m(\u001b[0m\u001b[0mstate\u001b[0m\u001b[0;34m.\u001b[0m\u001b[0mAST\u001b[0m\u001b[0;34m)\u001b[0m\u001b[0;34m\u001b[0m\u001b[0m\n\u001b[0m\u001b[1;32m     31\u001b[0m         \u001b[0;32mif\u001b[0m \u001b[0msymtab_dump\u001b[0m\u001b[0;34m:\u001b[0m\u001b[0;34m\u001b[0m\u001b[0m\n\u001b[1;32m     32\u001b[0m             \u001b[0mstate\u001b[0m\u001b[0;34m.\u001b[0m\u001b[0msymbol_table\u001b[0m\u001b[0;34m.\u001b[0m\u001b[0mdump\u001b[0m\u001b[0;34m(\u001b[0m\u001b[0;34m)\u001b[0m\u001b[0;34m\u001b[0m\u001b[0m\n",
      "\u001b[0;32m/Users/lutz/Dropbox/Projects/Asteroid PL/asteroid-git/asteroid_interp_walk.py\u001b[0m in \u001b[0;36mwalk\u001b[0;34m(node)\u001b[0m\n\u001b[1;32m    755\u001b[0m     \u001b[0;32mif\u001b[0m \u001b[0mtype\u001b[0m \u001b[0;32min\u001b[0m \u001b[0mdispatch_dict\u001b[0m\u001b[0;34m:\u001b[0m\u001b[0;34m\u001b[0m\u001b[0m\n\u001b[1;32m    756\u001b[0m         \u001b[0mnode_function\u001b[0m \u001b[0;34m=\u001b[0m \u001b[0mdispatch_dict\u001b[0m\u001b[0;34m[\u001b[0m\u001b[0mtype\u001b[0m\u001b[0;34m]\u001b[0m\u001b[0;34m\u001b[0m\u001b[0m\n\u001b[0;32m--> 757\u001b[0;31m         \u001b[0;32mreturn\u001b[0m \u001b[0mnode_function\u001b[0m\u001b[0;34m(\u001b[0m\u001b[0mnode\u001b[0m\u001b[0;34m)\u001b[0m\u001b[0;34m\u001b[0m\u001b[0m\n\u001b[0m\u001b[1;32m    758\u001b[0m     \u001b[0;32melse\u001b[0m\u001b[0;34m:\u001b[0m\u001b[0;34m\u001b[0m\u001b[0m\n\u001b[1;32m    759\u001b[0m         \u001b[0;32mraise\u001b[0m \u001b[0mValueError\u001b[0m\u001b[0;34m(\u001b[0m\u001b[0;34m\"walk: unknown tree node type: \"\u001b[0m \u001b[0;34m+\u001b[0m \u001b[0mtype\u001b[0m\u001b[0;34m)\u001b[0m\u001b[0;34m\u001b[0m\u001b[0m\n",
      "\u001b[0;32m/Users/lutz/Dropbox/Projects/Asteroid PL/asteroid-git/asteroid_interp_walk.py\u001b[0m in \u001b[0;36m<lambda>\u001b[0;34m(node)\u001b[0m\n\u001b[1;32m    777\u001b[0m     \u001b[0;34m'to-list'\u001b[0m \u001b[0;34m:\u001b[0m \u001b[0mto_list_exp\u001b[0m\u001b[0;34m,\u001b[0m\u001b[0;34m\u001b[0m\u001b[0m\n\u001b[1;32m    778\u001b[0m     \u001b[0;34m'dict-access'\u001b[0m \u001b[0;34m:\u001b[0m \u001b[0;32mlambda\u001b[0m \u001b[0mnode\u001b[0m \u001b[0;34m:\u001b[0m \u001b[0mnode\u001b[0m\u001b[0;34m,\u001b[0m\u001b[0;34m\u001b[0m\u001b[0m\n\u001b[0;32m--> 779\u001b[0;31m     \u001b[0;34m'seq'\u001b[0m     \u001b[0;34m:\u001b[0m \u001b[0;32mlambda\u001b[0m \u001b[0mnode\u001b[0m \u001b[0;34m:\u001b[0m \u001b[0;34m(\u001b[0m\u001b[0;34m'seq'\u001b[0m\u001b[0;34m,\u001b[0m \u001b[0mwalk\u001b[0m\u001b[0;34m(\u001b[0m\u001b[0mnode\u001b[0m\u001b[0;34m[\u001b[0m\u001b[0;36m1\u001b[0m\u001b[0;34m]\u001b[0m\u001b[0;34m)\u001b[0m\u001b[0;34m,\u001b[0m \u001b[0mwalk\u001b[0m\u001b[0;34m(\u001b[0m\u001b[0mnode\u001b[0m\u001b[0;34m[\u001b[0m\u001b[0;36m2\u001b[0m\u001b[0;34m]\u001b[0m\u001b[0;34m)\u001b[0m\u001b[0;34m)\u001b[0m\u001b[0;34m,\u001b[0m\u001b[0;34m\u001b[0m\u001b[0m\n\u001b[0m\u001b[1;32m    780\u001b[0m     \u001b[0;34m'none'\u001b[0m    \u001b[0;34m:\u001b[0m \u001b[0;32mlambda\u001b[0m \u001b[0mnode\u001b[0m \u001b[0;34m:\u001b[0m \u001b[0mnode\u001b[0m\u001b[0;34m,\u001b[0m\u001b[0;34m\u001b[0m\u001b[0m\n\u001b[1;32m    781\u001b[0m     \u001b[0;34m'nil'\u001b[0m     \u001b[0;34m:\u001b[0m \u001b[0;32mlambda\u001b[0m \u001b[0mnode\u001b[0m \u001b[0;34m:\u001b[0m \u001b[0mnode\u001b[0m\u001b[0;34m,\u001b[0m\u001b[0;34m\u001b[0m\u001b[0m\n",
      "\u001b[0;32m/Users/lutz/Dropbox/Projects/Asteroid PL/asteroid-git/asteroid_interp_walk.py\u001b[0m in \u001b[0;36mwalk\u001b[0;34m(node)\u001b[0m\n\u001b[1;32m    755\u001b[0m     \u001b[0;32mif\u001b[0m \u001b[0mtype\u001b[0m \u001b[0;32min\u001b[0m \u001b[0mdispatch_dict\u001b[0m\u001b[0;34m:\u001b[0m\u001b[0;34m\u001b[0m\u001b[0m\n\u001b[1;32m    756\u001b[0m         \u001b[0mnode_function\u001b[0m \u001b[0;34m=\u001b[0m \u001b[0mdispatch_dict\u001b[0m\u001b[0;34m[\u001b[0m\u001b[0mtype\u001b[0m\u001b[0;34m]\u001b[0m\u001b[0;34m\u001b[0m\u001b[0m\n\u001b[0;32m--> 757\u001b[0;31m         \u001b[0;32mreturn\u001b[0m \u001b[0mnode_function\u001b[0m\u001b[0;34m(\u001b[0m\u001b[0mnode\u001b[0m\u001b[0;34m)\u001b[0m\u001b[0;34m\u001b[0m\u001b[0m\n\u001b[0m\u001b[1;32m    758\u001b[0m     \u001b[0;32melse\u001b[0m\u001b[0;34m:\u001b[0m\u001b[0;34m\u001b[0m\u001b[0m\n\u001b[1;32m    759\u001b[0m         \u001b[0;32mraise\u001b[0m \u001b[0mValueError\u001b[0m\u001b[0;34m(\u001b[0m\u001b[0;34m\"walk: unknown tree node type: \"\u001b[0m \u001b[0;34m+\u001b[0m \u001b[0mtype\u001b[0m\u001b[0;34m)\u001b[0m\u001b[0;34m\u001b[0m\u001b[0m\n",
      "\u001b[0;32m/Users/lutz/Dropbox/Projects/Asteroid PL/asteroid-git/asteroid_interp_walk.py\u001b[0m in \u001b[0;36munify_stmt\u001b[0;34m(node)\u001b[0m\n\u001b[1;32m    404\u001b[0m     \u001b[0massert_match\u001b[0m\u001b[0;34m(\u001b[0m\u001b[0mUNIFY\u001b[0m\u001b[0;34m,\u001b[0m \u001b[0;34m'unify'\u001b[0m\u001b[0;34m)\u001b[0m\u001b[0;34m\u001b[0m\u001b[0m\n\u001b[1;32m    405\u001b[0m \u001b[0;34m\u001b[0m\u001b[0m\n\u001b[0;32m--> 406\u001b[0;31m     \u001b[0mterm\u001b[0m \u001b[0;34m=\u001b[0m \u001b[0mwalk\u001b[0m\u001b[0;34m(\u001b[0m\u001b[0mexp\u001b[0m\u001b[0;34m)\u001b[0m\u001b[0;34m\u001b[0m\u001b[0m\n\u001b[0m\u001b[1;32m    407\u001b[0m     \u001b[0munifiers\u001b[0m \u001b[0;34m=\u001b[0m \u001b[0munify\u001b[0m\u001b[0;34m(\u001b[0m\u001b[0mterm\u001b[0m\u001b[0;34m,\u001b[0m \u001b[0mpattern\u001b[0m\u001b[0;34m)\u001b[0m\u001b[0;34m\u001b[0m\u001b[0m\n\u001b[1;32m    408\u001b[0m \u001b[0;34m\u001b[0m\u001b[0m\n",
      "\u001b[0;32m/Users/lutz/Dropbox/Projects/Asteroid PL/asteroid-git/asteroid_interp_walk.py\u001b[0m in \u001b[0;36mwalk\u001b[0;34m(node)\u001b[0m\n\u001b[1;32m    757\u001b[0m         \u001b[0;32mreturn\u001b[0m \u001b[0mnode_function\u001b[0m\u001b[0;34m(\u001b[0m\u001b[0mnode\u001b[0m\u001b[0;34m)\u001b[0m\u001b[0;34m\u001b[0m\u001b[0m\n\u001b[1;32m    758\u001b[0m     \u001b[0;32melse\u001b[0m\u001b[0;34m:\u001b[0m\u001b[0;34m\u001b[0m\u001b[0m\n\u001b[0;32m--> 759\u001b[0;31m         \u001b[0;32mraise\u001b[0m \u001b[0mValueError\u001b[0m\u001b[0;34m(\u001b[0m\u001b[0;34m\"walk: unknown tree node type: \"\u001b[0m \u001b[0;34m+\u001b[0m \u001b[0mtype\u001b[0m\u001b[0;34m)\u001b[0m\u001b[0;34m\u001b[0m\u001b[0m\n\u001b[0m\u001b[1;32m    760\u001b[0m \u001b[0;34m\u001b[0m\u001b[0m\n\u001b[1;32m    761\u001b[0m \u001b[0;31m# a dictionary to associate tree nodes with node functions\u001b[0m\u001b[0;34m\u001b[0m\u001b[0;34m\u001b[0m\u001b[0m\n",
      "\u001b[0;31mValueError\u001b[0m: walk: unknown tree node type: where-list"
     ]
    }
   ],
   "source": [
    "where_list = \\\n",
    "'''\n",
    "let l = [(2*i) where i in [1 to 100]].\n",
    "'''\n",
    "interp(where_list, symtab_dump=True, tree_dump=True, exceptions=True)"
   ]
  },
  {
   "cell_type": "code",
   "execution_count": null,
   "metadata": {},
   "outputs": [],
   "source": [
    "list_to1 = \\\n",
    "'''\n",
    "let [0 to 10] = '[0 to 10].\n",
    "'''\n",
    "interp(list_to1, symtab_dump=True, tree_dump=True, exceptions=True)"
   ]
  },
  {
   "cell_type": "code",
   "execution_count": null,
   "metadata": {},
   "outputs": [],
   "source": [
    "struct_list_to = \\\n",
    "'''\n",
    "constructor A with arity 3.\n",
    "\n",
    "let a = A(1,2,3).\n",
    "let b = a@[0 to 2].\n",
    "'''\n",
    "interp(struct_list_to, symtab_dump=True, tree_dump=True, exceptions=True)"
   ]
  },
  {
   "cell_type": "code",
   "execution_count": null,
   "metadata": {},
   "outputs": [],
   "source": [
    "list_to_reverse = \\\n",
    "'''\n",
    "let a = [0,1,2,3].\n",
    "let b = a@[0 to 3 step 2].\n",
    "'''\n",
    "interp(list_to_reverse, symtab_dump=True, tree_dump=True, exceptions=True)"
   ]
  },
  {
   "cell_type": "code",
   "execution_count": null,
   "metadata": {},
   "outputs": [],
   "source": [
    "list_to = \\\n",
    "'''\n",
    "let x = 1.\n",
    "let y = [0 to 10 step 2].\n",
    "let z = 4 in y.\n",
    "'''\n",
    "interp(list_to, symtab_dump=True, tree_dump=True)"
   ]
  },
  {
   "cell_type": "code",
   "execution_count": null,
   "metadata": {},
   "outputs": [],
   "source": [
    "in_test = \\\n",
    "'''\n",
    "let y = 3 in [1,2,3].\n",
    "'''\n",
    "interp(in_test, symtab_dump=True)"
   ]
  },
  {
   "cell_type": "code",
   "execution_count": null,
   "metadata": {},
   "outputs": [],
   "source": [
    "is_test = \\\n",
    "'''\n",
    "let y = (1,2) is (1,x).\n",
    "let z = (1,3) is (1,x).\n",
    "\n",
    "'''\n",
    "interp(is_test, symtab_dump=True)"
   ]
  },
  {
   "cell_type": "code",
   "execution_count": null,
   "metadata": {},
   "outputs": [],
   "source": [
    "constr_dict_store =\\\n",
    "'''\n",
    "constructor A with arity 2.\n",
    "\n",
    "let foo = A((\"a\",1),(\"b\",2)).\n",
    "let foo@{\"a\"} = 2.\n",
    "\n",
    "'''\n",
    "interp(constr_dict_store, tree_dump=True, exceptions=True, symtab_dump=True)"
   ]
  },
  {
   "cell_type": "code",
   "execution_count": null,
   "metadata": {},
   "outputs": [],
   "source": [
    "store_dict = \\\n",
    "'''\n",
    "let d = [(\"a\", 100)].\n",
    "let d@{\"foo\"} = 1.\n",
    "let d@{\"goo\"} = 2.\n",
    "\n",
    "let d@{\"foo\"} = 2.\n",
    "\n",
    "'''\n",
    "interp(store_dict, tree_dump=True, symtab_dump=True, exceptions=False)"
   ]
  },
  {
   "cell_type": "code",
   "execution_count": null,
   "metadata": {},
   "outputs": [],
   "source": [
    "store_list = \\\n",
    "'''\n",
    "let b = [[1,2,3],\n",
    "         [4,5,6],\n",
    "         [7,8,9]].\n",
    "let b@[1]@[1] = 0.\n",
    "print b.\n",
    "'''\n",
    "interp(store_list, tree_dump=True, exceptions=True)"
   ]
  },
  {
   "cell_type": "code",
   "execution_count": null,
   "metadata": {},
   "outputs": [],
   "source": [
    "constr_dict =\\\n",
    "'''\n",
    "constructor A with arity 2.\n",
    "\n",
    "let foo = A((\"a\",1),(\"b\",2)).\n",
    "print foo@{\"a\"}.\n",
    "\n",
    "let goo = A([(1,1),(2,2)]).\n",
    "print goo@{1}.\n",
    "\n",
    "\n",
    "'''\n",
    "interp(constr_dict, tree_dump=True, exceptions=True)"
   ]
  },
  {
   "cell_type": "code",
   "execution_count": null,
   "metadata": {},
   "outputs": [],
   "source": [
    "dict = \\\n",
    "'''\n",
    "let d = [(\"a\", 1)].\n",
    "\n",
    "print d@{\"a\"}.\n",
    "'''\n",
    "interp(dict, tree_dump=True)"
   ]
  },
  {
   "cell_type": "code",
   "execution_count": null,
   "metadata": {},
   "outputs": [],
   "source": [
    "list_equiv = \\\n",
    "'''\n",
    "-- some list equivalencies\n",
    "\n",
    "let [0] = 0, .\n",
    "let [0,1,2] = 0,1,2.\n",
    "let [[0,1,2]] = ((0,1,2),).\n",
    "let (0,1,2),(3,4,5) = ((0,1,2),(3,4,5)).\n",
    "'''\n",
    "interp(list_equiv, tree_dump=True)"
   ]
  },
  {
   "cell_type": "code",
   "execution_count": null,
   "metadata": {},
   "outputs": [],
   "source": [
    "unary_ops = \\\n",
    "'''\n",
    "let x = -1.\n",
    "let y = not true.\n",
    "'''\n",
    "interp(unary_ops, tree_dump=True, symtab_dump=True)"
   ]
  },
  {
   "cell_type": "code",
   "execution_count": null,
   "metadata": {},
   "outputs": [],
   "source": [
    "apply = \\\n",
    "'''\n",
    "-- infix operators are just a shorthand for prefix terms \n",
    "-- using special names for the operators\n",
    "\n",
    "load \"standard.ast\".\n",
    "\n",
    "let x = __plus__ (1,1).\n",
    "let y = 1 + 1.\n",
    "\n",
    "let 1 + 1 = '__plus__ (1,1).\n",
    "'''\n",
    "interp(apply, tree_dump=True, symtab_dump=True)"
   ]
  },
  {
   "cell_type": "code",
   "execution_count": null,
   "metadata": {},
   "outputs": [],
   "source": [
    "struct_func = \\\n",
    "'''\n",
    "constructor A with arity 2.\n",
    "let a = A(\"Hello\", (lambda with self do return self@[0].))\n",
    "\n",
    "-- NOTE: precedence needs to be fixed!\n",
    "-- NOTE: function calls need the objid as the first arg\n",
    "print (a@[1]) a.\n",
    "'''\n",
    "interp(struct_func, tree_dump=True, symtab_dump=False, exceptions=False)"
   ]
  },
  {
   "cell_type": "code",
   "execution_count": null,
   "metadata": {},
   "outputs": [],
   "source": [
    "constr_lval = \\\n",
    "'''\n",
    "constructor A with arity 1.\n",
    "let A(0,) = A[0].  -- BUT A(0) != A[0] --> needs to be straightened out...\n",
    "let a = A[0].\n",
    "let a@0 = 1.\n",
    "'''\n",
    "interp(constr_lval, tree_dump=True, symtab_dump=True, exceptions=False)"
   ]
  },
  {
   "cell_type": "code",
   "execution_count": null,
   "metadata": {},
   "outputs": [],
   "source": [
    "constr_lval2 = \\\n",
    "'''\n",
    "constructor A with arity 3.\n",
    "let a = A[1,2,3].\n",
    "let a@[1] = 0.\n",
    "'''\n",
    "interp(constr_lval2, tree_dump=True, symtab_dump=True, exceptions=False)"
   ]
  },
  {
   "cell_type": "code",
   "execution_count": null,
   "metadata": {},
   "outputs": [],
   "source": [
    "array_lval = \\\n",
    "'''\n",
    "let a = [1,2,3].\n",
    "let a@[2],a@[1],a@[0] = a.\n",
    "print a\n",
    "'''\n",
    "interp(array_lval, tree_dump=False, symtab_dump=False, do_walk=True, exceptions=False)"
   ]
  },
  {
   "cell_type": "code",
   "execution_count": null,
   "metadata": {},
   "outputs": [],
   "source": [
    "struct = \\\n",
    "'''\n",
    "constructor A with arity 1.\n",
    "constructor B with arity 2.\n",
    "\n",
    "let x = A(1).\n",
    "let y = B(1,2).\n",
    "\n",
    "let A(z) = x.\n",
    "let B(v,w) = y.\n",
    "\n",
    "let xx = x@0.\n",
    "let yy = y@[0,1].\n",
    "\n",
    "'''\n",
    "interp(struct, tree_dump=False, symtab_dump=True, exceptions=True)"
   ]
  },
  {
   "cell_type": "code",
   "execution_count": null,
   "metadata": {},
   "outputs": [],
   "source": [
    "arr = \\\n",
    "'''\n",
    "let v = 'a@[3].\n",
    "print v.\n",
    "'''\n",
    "interp(arr)"
   ]
  },
  {
   "cell_type": "code",
   "execution_count": null,
   "metadata": {},
   "outputs": [],
   "source": [
    "func = \\\n",
    "'''\n",
    "load \"standard.ast\".\n",
    "\n",
    "function inc with n do return n+1 end function\n",
    "\n",
    "let v = inc(inc(0)).\n",
    "let q = 1 + 1 + 1.\n",
    "print v, q.\n",
    "'''\n",
    "interp(func, tree_dump=False, symtab_dump=False)"
   ]
  },
  {
   "cell_type": "code",
   "execution_count": null,
   "metadata": {},
   "outputs": [],
   "source": [
    "constr = \\\n",
    "'''\n",
    "-- constructors and pattern matching\n",
    "\n",
    "-- load \"standard.ast\".\n",
    "\n",
    "constructor S with arity 1.\n",
    "attach (lambda with n do return 1+n) to S.\n",
    "\n",
    "let v = 'S(S(0)).\n",
    "print v.\n",
    "\n",
    "let v = S(S(0)).\n",
    "print v.\n",
    "\n",
    "let S (S (v))  = 'S(S(0)).\n",
    "print v.\n",
    "\n",
    "let S (S (0))  = 'S(S(0)).\n",
    "\n",
    "\n",
    "let [[v]] = [[0]].\n",
    "print v.\n",
    "\n",
    "'''\n",
    "interp(constr, tree_dump=False, symtab_dump=False, exceptions=False)"
   ]
  },
  {
   "cell_type": "code",
   "execution_count": null,
   "metadata": {},
   "outputs": [],
   "source": [
    "string_conc = \\\n",
    "'''\n",
    "-- show off our overloaded '+' operator\n",
    "load \"standard.ast\".\n",
    "\n",
    "print 1 + 1.\n",
    "\n",
    "let s1 = \"hello\".\n",
    "let s2 = \"world\".\n",
    "let s3 = s1 + \" \" + s2 +\"!\".\n",
    "print s3.\n",
    "\n",
    "let l1 = [1,2,3].\n",
    "let l2 = [4,5,6].\n",
    "let l3 = l1 + l2.\n",
    "print l3\n",
    "'''\n",
    "interp(string_conc, tree_dump=False, symtab_dump=False, exceptions=False)"
   ]
  },
  {
   "cell_type": "code",
   "execution_count": null,
   "metadata": {},
   "outputs": [],
   "source": [
    "array_rval = \\\n",
    "'''\n",
    "-- reverse the list\n",
    "let a = [1,2,3].\n",
    "let a = a@[2,1,0].\n",
    "print a.\n",
    "\n",
    "-- access multidim array\n",
    "let b = [[1,2,3],\n",
    "         [4,5,6],\n",
    "         [7,8,9]].\n",
    "let e = b@[1]@[1].\n",
    "print e.\n",
    "'''\n",
    "interp(array_rval, tree_dump=False, do_walk=True, symtab_dump=False, exceptions=False)"
   ]
  },
  {
   "cell_type": "code",
   "execution_count": null,
   "metadata": {},
   "outputs": [],
   "source": [
    "graphics = \\\n",
    "'''\n",
    "-- Asteroid graphics\n",
    "-- we can incorporate Python graphics into Asteroid via\n",
    "-- escaped Python code\n",
    "\n",
    "function circle with x, y, r do escape\n",
    "\"\n",
    "#########################################################\n",
    "vx = float(state.symbol_table.lookup_sym('x')[1])\n",
    "vy = float(state.symbol_table.lookup_sym('y')[1])\n",
    "vr = float(state.symbol_table.lookup_sym('r')[1])\n",
    "\n",
    "import matplotlib.pyplot as plt\n",
    "\n",
    "circle = plt.Circle((vx, vy), vr, color='blue')\n",
    "fig, ax = plt.subplots()\n",
    "ax.add_artist(circle)\n",
    "plt.show()\n",
    "#########################################################\n",
    "\"\n",
    "end function\n",
    "\n",
    "-- call the escaped function\n",
    "circle(.5, .5, .2)\n",
    "'''\n",
    "interp(graphics, exceptions=False, tree_dump=False, symtab_dump=False, do_walk=True)"
   ]
  },
  {
   "cell_type": "code",
   "execution_count": null,
   "metadata": {},
   "outputs": [],
   "source": [
    "attach = \\\n",
    "'''\n",
    "-- the 'add' function implements the behavior for \n",
    "-- the '+' operator for ints, reals, and strings.\n",
    "\n",
    "function add with a, b do return escape \n",
    "\"\n",
    "###################################################################\n",
    "# return register from 'escape' calls\n",
    "global __retval__ \n",
    "\n",
    "# 'promote' is the type promotion table for primitive\n",
    "# builtin types which implement the type hierarchy:\n",
    "#    integer < real < string\n",
    "type = promote(state.symbol_table.lookup_sym('a')[0], \n",
    "               state.symbol_table.lookup_sym('b')[0])\n",
    "\n",
    "# select the correct add according to type\n",
    "if type == 'integer':\n",
    "    __retval__ = ('integer', \n",
    "            int(state.symbol_table.lookup_sym('a')[1]) + \n",
    "            int(state.symbol_table.lookup_sym('b')[1]))\n",
    "\n",
    "elif type == 'real':\n",
    "    __retval__ = ('real', \n",
    "            float(state.symbol_table.lookup_sym('a')[1]) + \n",
    "            float(state.symbol_table.lookup_sym('b')[1]))\n",
    "\n",
    "elif type == 'string':\n",
    "    __retval__ = ('string', \n",
    "            str(state.symbol_table.lookup_sym('a')[1])+\n",
    "            str(state.symbol_table.lookup_sym('b')[1]))\n",
    "\n",
    "else:\n",
    "    raise ValueError('unsupported type in add')\n",
    "###################################################################\n",
    "\"     \n",
    "end function\n",
    "\n",
    "-- attach the behavior to the '+' constructor\n",
    "attach add to __plus__.\n",
    "\n",
    "-- test the '+' operator with different data types\n",
    "let x = 1.2 + 2 .\n",
    "print x.\n",
    "print \"the output is: \" + x.\n",
    "-- print [1,2] + 3.\n",
    "'''\n",
    "interp(attach, tree_dump=False, symtab_dump=False, exceptions=False)"
   ]
  },
  {
   "cell_type": "code",
   "execution_count": null,
   "metadata": {},
   "outputs": [],
   "source": [
    "interp(\"let x = 1 + 2. print x.\")"
   ]
  },
  {
   "cell_type": "code",
   "execution_count": null,
   "metadata": {},
   "outputs": [],
   "source": [
    "interp(\"let x = 1.3 . print x.\")"
   ]
  },
  {
   "cell_type": "code",
   "execution_count": null,
   "metadata": {},
   "outputs": [],
   "source": [
    "interp(\"let 1,y = 1,2. print 1,y.\")"
   ]
  },
  {
   "cell_type": "code",
   "execution_count": null,
   "metadata": {},
   "outputs": [],
   "source": [
    "interp(\"let x,2 = 1,2. print x,2.\")"
   ]
  },
  {
   "cell_type": "code",
   "execution_count": null,
   "metadata": {},
   "outputs": [],
   "source": [
    "interp(\"let s = 1,2. let x,y = s. print x,y.\")"
   ]
  },
  {
   "cell_type": "code",
   "execution_count": null,
   "metadata": {},
   "outputs": [],
   "source": [
    "interp(\"function ident with n do return n end function print ident(2).\")"
   ]
  },
  {
   "cell_type": "code",
   "execution_count": null,
   "metadata": {},
   "outputs": [],
   "source": [
    "interp(\"let x = 1. function ident with n do return n end function print (ident( ident (x))) .\", exceptions=True)"
   ]
  },
  {
   "cell_type": "code",
   "execution_count": null,
   "metadata": {},
   "outputs": [],
   "source": [
    "interp(\"let _, x = [1], 2.\", symtab_dump=True)"
   ]
  },
  {
   "cell_type": "code",
   "execution_count": null,
   "metadata": {},
   "outputs": [],
   "source": [
    "lambda1 = \\\n",
    "'''\n",
    "load \"standard.ast\"\n",
    "print (lambda with n do return n+1) 1\n",
    "'''\n",
    "interp(lambda1, tree_dump=False, symtab_dump=False)"
   ]
  },
  {
   "cell_type": "code",
   "execution_count": null,
   "metadata": {
    "collapsed": true
   },
   "outputs": [],
   "source": []
  }
 ],
 "metadata": {
  "kernelspec": {
   "display_name": "Python 3",
   "language": "python",
   "name": "python3"
  },
  "language_info": {
   "codemirror_mode": {
    "name": "ipython",
    "version": 3
   },
   "file_extension": ".py",
   "mimetype": "text/x-python",
   "name": "python",
   "nbconvert_exporter": "python",
   "pygments_lexer": "ipython3",
   "version": "3.6.1"
  }
 },
 "nbformat": 4,
 "nbformat_minor": 2
}
