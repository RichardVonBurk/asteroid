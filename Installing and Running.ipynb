{
 "cells": [
  {
   "cell_type": "markdown",
   "metadata": {},
   "source": [
    "## Installation\n",
    "\n",
    "Installation on Unix-like systems is nothing more than to either download or clone the [Asteroid github repository](https://github.com/lutzhamel/asteroid) or download one of the prepackaged releases and add the `code` directory of the repository/release to your `PATH` environment variable.  Be sure that you have Python 3.x installed. Make sure that the file `code/asteroid` has execution privileges on your machine.\n",
    "\n",
    "\n",
    "## Running the Asteroid Interpreter\n",
    "\n",
    "You run the interpreter from the command line by simply typing `asteroid`.  On MacOS and Linux this looks something like this if you have the location for the `asteroid` file included in your `PATH` environment variable,\n",
    "\n",
    "```\n",
    "$ cat simple.ast\n",
    "-- a simple program using lambda functions\n",
    "\n",
    "load \"standard\"\n",
    "load \"io\".\n",
    "\n",
    "print ((lambda with n do return n+1) 1).\n",
    "$ \n",
    "$ asteroid simple.ast \n",
    "2\n",
    "$ \n",
    "```\n",
    "\n"
   ]
  },
  {
   "cell_type": "code",
   "execution_count": null,
   "metadata": {
    "collapsed": true
   },
   "outputs": [],
   "source": []
  }
 ],
 "metadata": {
  "kernelspec": {
   "display_name": "Python 3",
   "language": "python",
   "name": "python3"
  },
  "language_info": {
   "codemirror_mode": {
    "name": "ipython",
    "version": 3
   },
   "file_extension": ".py",
   "mimetype": "text/x-python",
   "name": "python",
   "nbconvert_exporter": "python",
   "pygments_lexer": "ipython3",
   "version": "3.6.1"
  }
 },
 "nbformat": 4,
 "nbformat_minor": 2
}
